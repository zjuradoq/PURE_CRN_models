{
 "cells": [
  {
   "cell_type": "code",
   "execution_count": null,
   "metadata": {},
   "outputs": [],
   "source": [
    "# This is how the mechanisms and the mixtures can be used\n",
    "from bioCRNpyler import *\n",
    "from pure_transcription_mechanisms import *\n",
    "from pure_transcription_mixture import *\n",
    "\n",
    "G = DNAassembly(\"X\", promoter = \"prom_X\", rbs = \"rbs_X\", transcript = \"T_X\", protein = \"X\")\n",
    "M = PURE_Transcription(\"PURE transcription\", components = [G],\n",
    "                     parameter_file = \"PURE_parameters.txt\")\n",
    "CRN = M.compile_crn(add_reaction_species = True)\n",
    "print(repr(M),\"\\n\", CRN.pretty_print(show_attributes = True, show_material = True, show_rates = True),\"\\n\\n\")"
   ]
  }
 ],
 "metadata": {
  "language_info": {
   "name": "python"
  }
 },
 "nbformat": 4,
 "nbformat_minor": 2
}
