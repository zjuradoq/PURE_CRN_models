{
 "cells": [
  {
   "cell_type": "markdown",
   "id": "6f2fbe7a-2444-47e6-80fd-0a69f3af1d26",
   "metadata": {
    "tags": []
   },
   "source": [
    "# **PURE CRN model of TX-only models for MGapt**\n",
    "\n",
    "In this notebook, we built and run sensitivity parameters on the proposed chemical reaction network transcription model for PURE protein synthesis. "
   ]
  },
  {
   "cell_type": "markdown",
   "id": "8888a48c-32f1-41cc-a543-9fd6ed77957d",
   "metadata": {
    "tags": []
   },
   "source": [
    "# Importing required packages and definitions"
   ]
  },
  {
   "cell_type": "code",
   "execution_count": 1,
   "id": "0b4a8a3e-9b13-40cc-ba27-54d34521c6d0",
   "metadata": {},
   "outputs": [],
   "source": [
    "import biocrnpyler\n",
    "from biocrnpyler import *\n",
    "from biocrnpyler.component import Component\n",
    "from biocrnpyler.chemical_reaction_network import Species, Reaction, ChemicalReactionNetwork\n",
    "from biocrnpyler.mechanism import Mechanism\n",
    "from biocrnpyler.reaction import Reaction\n",
    "from biocrnpyler.species import Complex, Species, WeightedSpecies\n",
    "\n",
    "import bioscrape\n",
    "\n",
    "import numpy as np\n",
    "import pandas as pd\n",
    "import pylab as plt\n",
    "from scipy import stats\n",
    "\n",
    "import libsbml\n",
    "import time\n",
    "from typing import List, Union\n",
    "import csv\n",
    "import math\n",
    "import matplotlib.pyplot as plt\n",
    "import random \n",
    "import datetime\n",
    "\n",
    "#Get directory\n",
    "import os\n",
    "directory = os.getcwd()"
   ]
  },
  {
   "cell_type": "code",
   "execution_count": 2,
   "id": "bf265690-9480-424e-9f3a-ded3bfff3b18",
   "metadata": {
    "tags": []
   },
   "outputs": [],
   "source": [
    "def create_custom_plot(title_text, x_max=8,y_max=2, yname='MGapt (μM)'):\n",
    "    custom_plot = figure(\n",
    "        toolbar_location='right',\n",
    "        outline_line_color=None,\n",
    "        min_border_right=10,\n",
    "        height=400,\n",
    "        width=400,\n",
    "    )\n",
    "\n",
    "    custom_plot.title.text = title_text\n",
    "    custom_plot.xaxis.axis_label = 'Time (hours)'\n",
    "    custom_plot.yaxis.axis_label = yname\n",
    "    custom_plot.y_range = Range1d(0, y_max)\n",
    "    custom_plot.x_range = Range1d(0, x_max)\n",
    "    custom_plot.outline_line_color = None\n",
    "\n",
    "    # custom_plot.yaxis\n",
    "    custom_plot.ygrid.visible = False\n",
    "    custom_plot.yaxis.axis_label_text_font_size = '15pt'\n",
    "    custom_plot.yaxis.major_label_text_font_size = '15pt'\n",
    "    custom_plot.yaxis.major_label_text_font = 'Work Sans'\n",
    "    custom_plot.yaxis.axis_label_standoff = 15\n",
    "    custom_plot.yaxis.axis_label_text_font_style = 'normal'\n",
    "\n",
    "    # custom_plot.xaxis\n",
    "    custom_plot.xgrid.visible = False\n",
    "    custom_plot.xaxis.axis_label_text_font_size = '15pt'\n",
    "    custom_plot.xaxis.major_label_text_font_size = '15pt'\n",
    "    custom_plot.xaxis.major_label_text_font = 'Work Sans'\n",
    "    custom_plot.xaxis.axis_label_standoff = 15\n",
    "    custom_plot.xaxis.axis_label_text_font_style = 'normal'\n",
    "\n",
    "    # custom_plot.title\n",
    "    custom_plot.title.text_font_size = '18pt'\n",
    "    custom_plot.title.align = 'left'\n",
    "    custom_plot.title.offset = -70.0\n",
    "\n",
    "    return custom_plot"
   ]
  },
  {
   "cell_type": "markdown",
   "id": "7b0c54cd-1f16-4f13-97c2-44903bc054cf",
   "metadata": {
    "tags": []
   },
   "source": [
    "## Bokeh"
   ]
  },
  {
   "cell_type": "code",
   "execution_count": 3,
   "id": "09c4207c-5d5f-4830-900c-a1961714c5df",
   "metadata": {
    "tags": []
   },
   "outputs": [
    {
     "data": {
      "text/html": [
       "\n",
       "    <div class=\"bk-root\">\n",
       "        <a href=\"https://bokeh.org\" target=\"_blank\" class=\"bk-logo bk-logo-small bk-logo-notebook\"></a>\n",
       "        <span id=\"1002\">Loading BokehJS ...</span>\n",
       "    </div>"
      ]
     },
     "metadata": {},
     "output_type": "display_data"
    },
    {
     "data": {
      "application/javascript": [
       "\n",
       "(function(root) {\n",
       "  function now() {\n",
       "    return new Date();\n",
       "  }\n",
       "\n",
       "  const force = true;\n",
       "\n",
       "  if (typeof root._bokeh_onload_callbacks === \"undefined\" || force === true) {\n",
       "    root._bokeh_onload_callbacks = [];\n",
       "    root._bokeh_is_loading = undefined;\n",
       "  }\n",
       "\n",
       "  const JS_MIME_TYPE = 'application/javascript';\n",
       "  const HTML_MIME_TYPE = 'text/html';\n",
       "  const EXEC_MIME_TYPE = 'application/vnd.bokehjs_exec.v0+json';\n",
       "  const CLASS_NAME = 'output_bokeh rendered_html';\n",
       "\n",
       "  /**\n",
       "   * Render data to the DOM node\n",
       "   */\n",
       "  function render(props, node) {\n",
       "    const script = document.createElement(\"script\");\n",
       "    node.appendChild(script);\n",
       "  }\n",
       "\n",
       "  /**\n",
       "   * Handle when an output is cleared or removed\n",
       "   */\n",
       "  function handleClearOutput(event, handle) {\n",
       "    const cell = handle.cell;\n",
       "\n",
       "    const id = cell.output_area._bokeh_element_id;\n",
       "    const server_id = cell.output_area._bokeh_server_id;\n",
       "    // Clean up Bokeh references\n",
       "    if (id != null && id in Bokeh.index) {\n",
       "      Bokeh.index[id].model.document.clear();\n",
       "      delete Bokeh.index[id];\n",
       "    }\n",
       "\n",
       "    if (server_id !== undefined) {\n",
       "      // Clean up Bokeh references\n",
       "      const cmd_clean = \"from bokeh.io.state import curstate; print(curstate().uuid_to_server['\" + server_id + \"'].get_sessions()[0].document.roots[0]._id)\";\n",
       "      cell.notebook.kernel.execute(cmd_clean, {\n",
       "        iopub: {\n",
       "          output: function(msg) {\n",
       "            const id = msg.content.text.trim();\n",
       "            if (id in Bokeh.index) {\n",
       "              Bokeh.index[id].model.document.clear();\n",
       "              delete Bokeh.index[id];\n",
       "            }\n",
       "          }\n",
       "        }\n",
       "      });\n",
       "      // Destroy server and session\n",
       "      const cmd_destroy = \"import bokeh.io.notebook as ion; ion.destroy_server('\" + server_id + \"')\";\n",
       "      cell.notebook.kernel.execute(cmd_destroy);\n",
       "    }\n",
       "  }\n",
       "\n",
       "  /**\n",
       "   * Handle when a new output is added\n",
       "   */\n",
       "  function handleAddOutput(event, handle) {\n",
       "    const output_area = handle.output_area;\n",
       "    const output = handle.output;\n",
       "\n",
       "    // limit handleAddOutput to display_data with EXEC_MIME_TYPE content only\n",
       "    if ((output.output_type != \"display_data\") || (!Object.prototype.hasOwnProperty.call(output.data, EXEC_MIME_TYPE))) {\n",
       "      return\n",
       "    }\n",
       "\n",
       "    const toinsert = output_area.element.find(\".\" + CLASS_NAME.split(' ')[0]);\n",
       "\n",
       "    if (output.metadata[EXEC_MIME_TYPE][\"id\"] !== undefined) {\n",
       "      toinsert[toinsert.length - 1].firstChild.textContent = output.data[JS_MIME_TYPE];\n",
       "      // store reference to embed id on output_area\n",
       "      output_area._bokeh_element_id = output.metadata[EXEC_MIME_TYPE][\"id\"];\n",
       "    }\n",
       "    if (output.metadata[EXEC_MIME_TYPE][\"server_id\"] !== undefined) {\n",
       "      const bk_div = document.createElement(\"div\");\n",
       "      bk_div.innerHTML = output.data[HTML_MIME_TYPE];\n",
       "      const script_attrs = bk_div.children[0].attributes;\n",
       "      for (let i = 0; i < script_attrs.length; i++) {\n",
       "        toinsert[toinsert.length - 1].firstChild.setAttribute(script_attrs[i].name, script_attrs[i].value);\n",
       "        toinsert[toinsert.length - 1].firstChild.textContent = bk_div.children[0].textContent\n",
       "      }\n",
       "      // store reference to server id on output_area\n",
       "      output_area._bokeh_server_id = output.metadata[EXEC_MIME_TYPE][\"server_id\"];\n",
       "    }\n",
       "  }\n",
       "\n",
       "  function register_renderer(events, OutputArea) {\n",
       "\n",
       "    function append_mime(data, metadata, element) {\n",
       "      // create a DOM node to render to\n",
       "      const toinsert = this.create_output_subarea(\n",
       "        metadata,\n",
       "        CLASS_NAME,\n",
       "        EXEC_MIME_TYPE\n",
       "      );\n",
       "      this.keyboard_manager.register_events(toinsert);\n",
       "      // Render to node\n",
       "      const props = {data: data, metadata: metadata[EXEC_MIME_TYPE]};\n",
       "      render(props, toinsert[toinsert.length - 1]);\n",
       "      element.append(toinsert);\n",
       "      return toinsert\n",
       "    }\n",
       "\n",
       "    /* Handle when an output is cleared or removed */\n",
       "    events.on('clear_output.CodeCell', handleClearOutput);\n",
       "    events.on('delete.Cell', handleClearOutput);\n",
       "\n",
       "    /* Handle when a new output is added */\n",
       "    events.on('output_added.OutputArea', handleAddOutput);\n",
       "\n",
       "    /**\n",
       "     * Register the mime type and append_mime function with output_area\n",
       "     */\n",
       "    OutputArea.prototype.register_mime_type(EXEC_MIME_TYPE, append_mime, {\n",
       "      /* Is output safe? */\n",
       "      safe: true,\n",
       "      /* Index of renderer in `output_area.display_order` */\n",
       "      index: 0\n",
       "    });\n",
       "  }\n",
       "\n",
       "  // register the mime type if in Jupyter Notebook environment and previously unregistered\n",
       "  if (root.Jupyter !== undefined) {\n",
       "    const events = require('base/js/events');\n",
       "    const OutputArea = require('notebook/js/outputarea').OutputArea;\n",
       "\n",
       "    if (OutputArea.prototype.mime_types().indexOf(EXEC_MIME_TYPE) == -1) {\n",
       "      register_renderer(events, OutputArea);\n",
       "    }\n",
       "  }\n",
       "\n",
       "  \n",
       "  if (typeof (root._bokeh_timeout) === \"undefined\" || force === true) {\n",
       "    root._bokeh_timeout = Date.now() + 5000;\n",
       "    root._bokeh_failed_load = false;\n",
       "  }\n",
       "\n",
       "  const NB_LOAD_WARNING = {'data': {'text/html':\n",
       "     \"<div style='background-color: #fdd'>\\n\"+\n",
       "     \"<p>\\n\"+\n",
       "     \"BokehJS does not appear to have successfully loaded. If loading BokehJS from CDN, this \\n\"+\n",
       "     \"may be due to a slow or bad network connection. Possible fixes:\\n\"+\n",
       "     \"</p>\\n\"+\n",
       "     \"<ul>\\n\"+\n",
       "     \"<li>re-rerun `output_notebook()` to attempt to load from CDN again, or</li>\\n\"+\n",
       "     \"<li>use INLINE resources instead, as so:</li>\\n\"+\n",
       "     \"</ul>\\n\"+\n",
       "     \"<code>\\n\"+\n",
       "     \"from bokeh.resources import INLINE\\n\"+\n",
       "     \"output_notebook(resources=INLINE)\\n\"+\n",
       "     \"</code>\\n\"+\n",
       "     \"</div>\"}};\n",
       "\n",
       "  function display_loaded() {\n",
       "    const el = document.getElementById(\"1002\");\n",
       "    if (el != null) {\n",
       "      el.textContent = \"BokehJS is loading...\";\n",
       "    }\n",
       "    if (root.Bokeh !== undefined) {\n",
       "      if (el != null) {\n",
       "        el.textContent = \"BokehJS \" + root.Bokeh.version + \" successfully loaded.\";\n",
       "      }\n",
       "    } else if (Date.now() < root._bokeh_timeout) {\n",
       "      setTimeout(display_loaded, 100)\n",
       "    }\n",
       "  }\n",
       "\n",
       "\n",
       "  function run_callbacks() {\n",
       "    try {\n",
       "      root._bokeh_onload_callbacks.forEach(function(callback) {\n",
       "        if (callback != null)\n",
       "          callback();\n",
       "      });\n",
       "    } finally {\n",
       "      delete root._bokeh_onload_callbacks\n",
       "    }\n",
       "    console.debug(\"Bokeh: all callbacks have finished\");\n",
       "  }\n",
       "\n",
       "  function load_libs(css_urls, js_urls, callback) {\n",
       "    if (css_urls == null) css_urls = [];\n",
       "    if (js_urls == null) js_urls = [];\n",
       "\n",
       "    root._bokeh_onload_callbacks.push(callback);\n",
       "    if (root._bokeh_is_loading > 0) {\n",
       "      console.debug(\"Bokeh: BokehJS is being loaded, scheduling callback at\", now());\n",
       "      return null;\n",
       "    }\n",
       "    if (js_urls == null || js_urls.length === 0) {\n",
       "      run_callbacks();\n",
       "      return null;\n",
       "    }\n",
       "    console.debug(\"Bokeh: BokehJS not loaded, scheduling load and callback at\", now());\n",
       "    root._bokeh_is_loading = css_urls.length + js_urls.length;\n",
       "\n",
       "    function on_load() {\n",
       "      root._bokeh_is_loading--;\n",
       "      if (root._bokeh_is_loading === 0) {\n",
       "        console.debug(\"Bokeh: all BokehJS libraries/stylesheets loaded\");\n",
       "        run_callbacks()\n",
       "      }\n",
       "    }\n",
       "\n",
       "    function on_error(url) {\n",
       "      console.error(\"failed to load \" + url);\n",
       "    }\n",
       "\n",
       "    for (let i = 0; i < css_urls.length; i++) {\n",
       "      const url = css_urls[i];\n",
       "      const element = document.createElement(\"link\");\n",
       "      element.onload = on_load;\n",
       "      element.onerror = on_error.bind(null, url);\n",
       "      element.rel = \"stylesheet\";\n",
       "      element.type = \"text/css\";\n",
       "      element.href = url;\n",
       "      console.debug(\"Bokeh: injecting link tag for BokehJS stylesheet: \", url);\n",
       "      document.body.appendChild(element);\n",
       "    }\n",
       "\n",
       "    for (let i = 0; i < js_urls.length; i++) {\n",
       "      const url = js_urls[i];\n",
       "      const element = document.createElement('script');\n",
       "      element.onload = on_load;\n",
       "      element.onerror = on_error.bind(null, url);\n",
       "      element.async = false;\n",
       "      element.src = url;\n",
       "      console.debug(\"Bokeh: injecting script tag for BokehJS library: \", url);\n",
       "      document.head.appendChild(element);\n",
       "    }\n",
       "  };\n",
       "\n",
       "  function inject_raw_css(css) {\n",
       "    const element = document.createElement(\"style\");\n",
       "    element.appendChild(document.createTextNode(css));\n",
       "    document.body.appendChild(element);\n",
       "  }\n",
       "\n",
       "  \n",
       "  const js_urls = [\"https://cdn.bokeh.org/bokeh/release/bokeh-2.4.0.min.js\", \"https://cdn.bokeh.org/bokeh/release/bokeh-gl-2.4.0.min.js\", \"https://cdn.bokeh.org/bokeh/release/bokeh-widgets-2.4.0.min.js\", \"https://cdn.bokeh.org/bokeh/release/bokeh-tables-2.4.0.min.js\", \"https://cdn.bokeh.org/bokeh/release/bokeh-mathjax-2.4.0.min.js\"];\n",
       "  const css_urls = [];\n",
       "  \n",
       "\n",
       "  const inline_js = [\n",
       "    function(Bokeh) {\n",
       "      Bokeh.set_log_level(\"info\");\n",
       "    },\n",
       "    function(Bokeh) {\n",
       "    \n",
       "    \n",
       "    }\n",
       "  ];\n",
       "\n",
       "  function run_inline_js() {\n",
       "    \n",
       "    if (root.Bokeh !== undefined || force === true) {\n",
       "      \n",
       "    for (let i = 0; i < inline_js.length; i++) {\n",
       "      inline_js[i].call(root, root.Bokeh);\n",
       "    }\n",
       "    if (force === true) {\n",
       "        display_loaded();\n",
       "      }} else if (Date.now() < root._bokeh_timeout) {\n",
       "      setTimeout(run_inline_js, 100);\n",
       "    } else if (!root._bokeh_failed_load) {\n",
       "      console.log(\"Bokeh: BokehJS failed to load within specified timeout.\");\n",
       "      root._bokeh_failed_load = true;\n",
       "    } else if (force !== true) {\n",
       "      const cell = $(document.getElementById(\"1002\")).parents('.cell').data().cell;\n",
       "      cell.output_area.append_execute_result(NB_LOAD_WARNING)\n",
       "    }\n",
       "\n",
       "  }\n",
       "\n",
       "  if (root._bokeh_is_loading === 0) {\n",
       "    console.debug(\"Bokeh: BokehJS loaded, going straight to plotting\");\n",
       "    run_inline_js();\n",
       "  } else {\n",
       "    load_libs(css_urls, js_urls, function() {\n",
       "      console.debug(\"Bokeh: BokehJS plotting callback run at\", now());\n",
       "      run_inline_js();\n",
       "    });\n",
       "  }\n",
       "}(window));"
      ],
      "application/vnd.bokehjs_load.v0+json": "\n(function(root) {\n  function now() {\n    return new Date();\n  }\n\n  const force = true;\n\n  if (typeof root._bokeh_onload_callbacks === \"undefined\" || force === true) {\n    root._bokeh_onload_callbacks = [];\n    root._bokeh_is_loading = undefined;\n  }\n\n  \n\n  \n  if (typeof (root._bokeh_timeout) === \"undefined\" || force === true) {\n    root._bokeh_timeout = Date.now() + 5000;\n    root._bokeh_failed_load = false;\n  }\n\n  const NB_LOAD_WARNING = {'data': {'text/html':\n     \"<div style='background-color: #fdd'>\\n\"+\n     \"<p>\\n\"+\n     \"BokehJS does not appear to have successfully loaded. If loading BokehJS from CDN, this \\n\"+\n     \"may be due to a slow or bad network connection. Possible fixes:\\n\"+\n     \"</p>\\n\"+\n     \"<ul>\\n\"+\n     \"<li>re-rerun `output_notebook()` to attempt to load from CDN again, or</li>\\n\"+\n     \"<li>use INLINE resources instead, as so:</li>\\n\"+\n     \"</ul>\\n\"+\n     \"<code>\\n\"+\n     \"from bokeh.resources import INLINE\\n\"+\n     \"output_notebook(resources=INLINE)\\n\"+\n     \"</code>\\n\"+\n     \"</div>\"}};\n\n  function display_loaded() {\n    const el = document.getElementById(\"1002\");\n    if (el != null) {\n      el.textContent = \"BokehJS is loading...\";\n    }\n    if (root.Bokeh !== undefined) {\n      if (el != null) {\n        el.textContent = \"BokehJS \" + root.Bokeh.version + \" successfully loaded.\";\n      }\n    } else if (Date.now() < root._bokeh_timeout) {\n      setTimeout(display_loaded, 100)\n    }\n  }\n\n\n  function run_callbacks() {\n    try {\n      root._bokeh_onload_callbacks.forEach(function(callback) {\n        if (callback != null)\n          callback();\n      });\n    } finally {\n      delete root._bokeh_onload_callbacks\n    }\n    console.debug(\"Bokeh: all callbacks have finished\");\n  }\n\n  function load_libs(css_urls, js_urls, callback) {\n    if (css_urls == null) css_urls = [];\n    if (js_urls == null) js_urls = [];\n\n    root._bokeh_onload_callbacks.push(callback);\n    if (root._bokeh_is_loading > 0) {\n      console.debug(\"Bokeh: BokehJS is being loaded, scheduling callback at\", now());\n      return null;\n    }\n    if (js_urls == null || js_urls.length === 0) {\n      run_callbacks();\n      return null;\n    }\n    console.debug(\"Bokeh: BokehJS not loaded, scheduling load and callback at\", now());\n    root._bokeh_is_loading = css_urls.length + js_urls.length;\n\n    function on_load() {\n      root._bokeh_is_loading--;\n      if (root._bokeh_is_loading === 0) {\n        console.debug(\"Bokeh: all BokehJS libraries/stylesheets loaded\");\n        run_callbacks()\n      }\n    }\n\n    function on_error(url) {\n      console.error(\"failed to load \" + url);\n    }\n\n    for (let i = 0; i < css_urls.length; i++) {\n      const url = css_urls[i];\n      const element = document.createElement(\"link\");\n      element.onload = on_load;\n      element.onerror = on_error.bind(null, url);\n      element.rel = \"stylesheet\";\n      element.type = \"text/css\";\n      element.href = url;\n      console.debug(\"Bokeh: injecting link tag for BokehJS stylesheet: \", url);\n      document.body.appendChild(element);\n    }\n\n    for (let i = 0; i < js_urls.length; i++) {\n      const url = js_urls[i];\n      const element = document.createElement('script');\n      element.onload = on_load;\n      element.onerror = on_error.bind(null, url);\n      element.async = false;\n      element.src = url;\n      console.debug(\"Bokeh: injecting script tag for BokehJS library: \", url);\n      document.head.appendChild(element);\n    }\n  };\n\n  function inject_raw_css(css) {\n    const element = document.createElement(\"style\");\n    element.appendChild(document.createTextNode(css));\n    document.body.appendChild(element);\n  }\n\n  \n  const js_urls = [\"https://cdn.bokeh.org/bokeh/release/bokeh-2.4.0.min.js\", \"https://cdn.bokeh.org/bokeh/release/bokeh-gl-2.4.0.min.js\", \"https://cdn.bokeh.org/bokeh/release/bokeh-widgets-2.4.0.min.js\", \"https://cdn.bokeh.org/bokeh/release/bokeh-tables-2.4.0.min.js\", \"https://cdn.bokeh.org/bokeh/release/bokeh-mathjax-2.4.0.min.js\"];\n  const css_urls = [];\n  \n\n  const inline_js = [\n    function(Bokeh) {\n      Bokeh.set_log_level(\"info\");\n    },\n    function(Bokeh) {\n    \n    \n    }\n  ];\n\n  function run_inline_js() {\n    \n    if (root.Bokeh !== undefined || force === true) {\n      \n    for (let i = 0; i < inline_js.length; i++) {\n      inline_js[i].call(root, root.Bokeh);\n    }\n    if (force === true) {\n        display_loaded();\n      }} else if (Date.now() < root._bokeh_timeout) {\n      setTimeout(run_inline_js, 100);\n    } else if (!root._bokeh_failed_load) {\n      console.log(\"Bokeh: BokehJS failed to load within specified timeout.\");\n      root._bokeh_failed_load = true;\n    } else if (force !== true) {\n      const cell = $(document.getElementById(\"1002\")).parents('.cell').data().cell;\n      cell.output_area.append_execute_result(NB_LOAD_WARNING)\n    }\n\n  }\n\n  if (root._bokeh_is_loading === 0) {\n    console.debug(\"Bokeh: BokehJS loaded, going straight to plotting\");\n    run_inline_js();\n  } else {\n    load_libs(css_urls, js_urls, function() {\n      console.debug(\"Bokeh: BokehJS plotting callback run at\", now());\n      run_inline_js();\n    });\n  }\n}(window));"
     },
     "metadata": {},
     "output_type": "display_data"
    }
   ],
   "source": [
    "%matplotlib inline\n",
    "import bokeh.io\n",
    "import bokeh.plotting\n",
    "bokeh.io.output_notebook()\n",
    "from bokeh.themes import Theme\n",
    "\n",
    "# Modules needed from Bokeh.\n",
    "from bokeh.io import output_file, show\n",
    "from bokeh.plotting import gridplot,figure\n",
    "from bokeh.models import LinearAxis, Range1d\n",
    "\n",
    "colors2 = bokeh.palettes.Colorblind[8]\n",
    "\n",
    "try:\n",
    "    import dnaplotlib as dpl\n",
    "    dpl_enabled = True\n",
    "except (ModuleNotFoundError,ImportError) as e:\n",
    "    dpl_enabled = False\n",
    "    \n",
    "from bokeh.io import export_png"
   ]
  },
  {
   "cell_type": "markdown",
   "id": "e33caf68-5df2-488e-b9fb-2e7eef92ced9",
   "metadata": {
    "tags": []
   },
   "source": [
    "## Definitions"
   ]
  },
  {
   "cell_type": "code",
   "execution_count": 4,
   "id": "e717c65a-5815-41a3-bb0b-0e77f2c14c21",
   "metadata": {},
   "outputs": [],
   "source": [
    "#Definition to un-nest lists that will be created by models\n",
    "def flatten(t):\n",
    "    return [item for sublist in t for item in sublist]"
   ]
  },
  {
   "cell_type": "markdown",
   "id": "2ce4a5d3-06a8-41ff-844c-4137424efb4a",
   "metadata": {
    "tags": []
   },
   "source": [
    "# User defined transcribed unit"
   ]
  },
  {
   "cell_type": "code",
   "execution_count": 5,
   "id": "9a8de690-a9da-4bdf-bf1f-acf148faa6d8",
   "metadata": {
    "tags": []
   },
   "outputs": [],
   "source": [
    "#User will copy the sequence bwteen end of promoter and start of terminator of DNA strain\n",
    "#mGapt sequence\n",
    "dna_seq='GGATCCCGACTGGCGAGAGCCAGGTAACGAATGGATCTCGAGCCTTAGGAGATCCGGCTGCTAACAAAGCCCGAAAGGAAGCTGAGTTGGCTGCTGCCACCGCTGAGCAATAA'\n",
    "#mGapt_UTR1_deGFP \n",
    "# dna_seq= 'GGGATCCCGACTGGCGAGAGCCAGGTAACGAATGGATCCAATAATTTTGTTTAACTTTAAGAAGGAGATATACCATGGAGCTTTTCACTGGCGTTGTTCCCATCCTGGTCGAGCTGGACGGCGACGTAAACGGCCACAAGTTCAGCGTGTCCGGCGAGGGCGAGGGCGATGCCACCTACGGCAAGCTGACCCTGAAGTTCATCTGCACCACCGGCAAGCTGCCCGTGCCCTGGCCCACCCTCGTGACCACCCTGACCTACGGCGTGCAGTGCTTCAGCCGCTACCCCGACCACATGAAGCAGCACGACTTCTTCAAGTCCGCCATGCCCGAAGGCTACGTCCAGGAGCGCACCATCTTCTTCAAGGACGACGGCAACTACAAGACCCGCGCCGAGGTGAAGTTCGAGGGCGACACCCTGGTGAACCGCATCGAGCTGAAGGGCATCGACTTCAAGGAGGACGGCAACATCCTGGGGCACAAGCTGGAGTACAACTACAACAGCCACAACGTCTATATCATGGCCGACAAGCAGAAGAACGGCATCAAGGTGAACTTCAAGATCCGCCACAACATCGAGGACGGCAGCGTGCAGCTCGCCGACCACTACCAGCAGAACACCCCCATCGGCGACGGCCCCGTGCTGCTGCCCGACAACCACTACCTGAGCACCCAGTCCGCCCTGAGCAAAGACCCCAACGAGAAGCGCGATCACATGGTCCTGCTGGAGTTCGTGACCGCCGCCGGGATCTAACTCGAGCCTTAGGAGATCCGGCTGCTAACAAAGCCCGAAAGGAAGCTGAGTTG'"
   ]
  },
  {
   "cell_type": "markdown",
   "id": "63aa5c2d-1c39-42c3-aad6-0aac2bde0292",
   "metadata": {
    "tags": []
   },
   "source": [
    "# PURE TX Model in BioCRNpyler\n",
    "This model is based on the TX-TL from Tuza *et al.* [1] originally built for cell lysate protein expression. This section of code requires a DNA sequence input from the user. If transcription is not desired, an amino acid list can also serve as the input and this section can be omitted. The steps of the TX are split into 3 subsections: species and reactions based on nucleotide needed (1), generates complement sequence (2), and species and reactions of growing mRNA strand (3). \n",
    "\n",
    "<ol>\n",
    "  <li>Non-nucleic acid Species and Reactions</li>\n",
    "  <li>RNA sequence</li>\n",
    "  <li> Addition of nucleotide and individual reactions for the desired DNA </li>\n",
    "</ol>\n",
    " \n",
    "### Citation:\n",
    "[1] Zoltán A. Tuza, Dan Siegal-Gaskins, Jongmin Kim, and Gábor Szederkényi. Analysis-based parameter estimation of an *in vitro* transcription-translation system. In Eur. Control Conf. 2015, page 1554–1560, 2015. ([PNAS, 2015](https://ieeexplore.ieee.org/document/7330760))"
   ]
  },
  {
   "cell_type": "code",
   "execution_count": 6,
   "id": "b7f35472-e4ef-497d-9601-f93a00d29fac",
   "metadata": {},
   "outputs": [],
   "source": [
    "p1 = bokeh.plotting.figure(toolbar_location='right',\n",
    "    outline_line_color= None,\n",
    "    min_border_right=10,\n",
    "    height=400,\n",
    "    width=600,)\n",
    "\n",
    "p1.title.text = \"A) Simulation Results of mRNA\"\n",
    "p1.xaxis.axis_label = 'Time (hours)'\n",
    "p1.yaxis.axis_label = 'mRNA (μM)'\n",
    "p1.outline_line_color=None\n",
    "\n",
    "# p1.yaxis\n",
    "p1.ygrid.visible = False\n",
    "p1.yaxis.axis_label_text_font_size='15pt' \n",
    "p1.yaxis.major_label_text_font_size = '15pt'\n",
    "p1.yaxis.major_label_text_font='Work Sans'\n",
    "p1.yaxis.axis_label_standoff=15\n",
    "p1.yaxis.axis_label_text_font_style='normal' \n",
    "\n",
    "# p1.xaxis\n",
    "p1.xgrid.visible = False\n",
    "p1.xaxis.axis_label_text_font_size='15pt' \n",
    "p1.xaxis.major_label_text_font_size = '15pt'\n",
    "p1.xaxis.major_label_text_font='Work Sans'\n",
    "p1.xaxis.axis_label_standoff=15\n",
    "p1.xaxis.axis_label_text_font_style='normal' \n",
    "\n",
    "# p1.title\n",
    "p1.title.text_font_size= '18pt' \n",
    "p1.title.align= 'left'\n",
    "p1.title.offset=-65.0"
   ]
  },
  {
   "cell_type": "markdown",
   "id": "18f2555e-15d0-4737-bec0-199566b8d295",
   "metadata": {
    "tags": []
   },
   "source": [
    "## Non-nucleic acid Species and Reactions\n",
    "<!--  -->\n",
    "Creates all the species and reaction around the nucleotide sequences in the given transcribed regions, common protein and small molecules."
   ]
  },
  {
   "cell_type": "code",
   "execution_count": 7,
   "id": "4de72565-2ec8-465c-be21-893dcb1538a2",
   "metadata": {},
   "outputs": [],
   "source": [
    "#Original Values\n",
    "k_rnapbF1 = 6.1\n",
    "k_rnapbF2 = 2.93\n",
    "k_rnapbF3 =  7.82\n",
    "k_start= 5.23\n",
    "k_ntpbound= 1.47\n",
    "k_ntpadd= 23.59\n",
    "k_ntpdis=  948.25\n",
    "k_term= 32.38"
   ]
  },
  {
   "cell_type": "code",
   "execution_count": 8,
   "id": "59de9252-1334-4c91-8bfa-cbd03eb6f52b",
   "metadata": {},
   "outputs": [],
   "source": [
    "## Species\n",
    "#Define species needed for TX \n",
    "T7RNAP = Species('T7RNAP') #ActivePolymerase\n",
    "DNA = Species(\"DNA\") \n",
    "mRNA_i=Species('mRNA_i') # mRNA intermediate species\n",
    "mRNA_t=Species('mRNA_t') # mRNA intermediate species\n",
    "MGapt=Species('MGapt') # mRNA species used to track total mRNA production\n",
    "T7RNAP_bound = Species(\"T7RNAP_bound\") \n",
    "T7RNAP_bound_GTP=Species('T7RNAP_bound_GTP')\n",
    "T7RNAP_bound_GDP_PO4= Species('T7RNAP_bound_GDP_PO4')\n",
    "\n",
    "#Nucleotide bases that are \"active\"\n",
    "ATP=Species('ATP')\n",
    "GTP=Species('GTP')\n",
    "CTP=Species('CTP')\n",
    "UTP=Species('UTP')\n",
    "\n",
    "#Other small molecules\n",
    "GDP=Species('GDP')\n",
    "PPi=Species('PPi')\n",
    "PO4=Species('PO4')\n",
    "\n",
    "#Define placing all species in one array \n",
    "Species_general= [T7RNAP, DNA, mRNA_i, MGapt, mRNA_t,\n",
    "                  ATP, GTP, CTP, UTP,PPi, PO4,                   \n",
    "                  T7RNAP_bound_GTP, T7RNAP_bound, \n",
    "                  T7RNAP_bound_GDP_PO4, T7RNAP_bound_GTP,]\n",
    "\n",
    "#Define Reactions needed for TX regardless of the sequence defined\n",
    "RXN_general= [\n",
    "    #Binding of RNAP and beginning of transcription\n",
    "    Reaction.from_massaction([T7RNAP, DNA, GTP], [T7RNAP_bound_GTP], k_forward=k_rnapbF1),\n",
    "    Reaction.from_massaction([T7RNAP_bound_GTP], [T7RNAP_bound_GDP_PO4], k_forward=k_rnapbF2),\n",
    "    Reaction.from_massaction([T7RNAP_bound_GDP_PO4], [T7RNAP_bound,GDP, PO4], k_forward=k_rnapbF3),]"
   ]
  },
  {
   "cell_type": "markdown",
   "id": "6da4e9e7-daed-48ff-8c67-45533284cb2f",
   "metadata": {
    "tags": []
   },
   "source": [
    "## Transcribing DNA sequence to mRNA sequence\n",
    "\n",
    "Transcribed the DNA input into RNA nucleotides. Output is a list of the nucleotides used to make the mRNA. "
   ]
  },
  {
   "cell_type": "code",
   "execution_count": 9,
   "id": "5505c6a1-3597-4e4b-aee1-0c42c8491921",
   "metadata": {
    "tags": []
   },
   "outputs": [],
   "source": [
    "# Transcribed given DNA sequence into mRNA sequence\n",
    "def getTranscript(dna):\n",
    "    transcript = []\n",
    "    for bp in dna:\n",
    "        if bp == 'A':\n",
    "            tx = ATP\n",
    "        elif bp == 'T':\n",
    "            tx =UTP\n",
    "        elif bp == 'G':\n",
    "            tx =GTP\n",
    "        elif bp == 'C':\n",
    "            tx =CTP\n",
    "        else:\n",
    "            print('Non-standard nucleotides')\n",
    "            \n",
    "        transcript.append(tx)\n",
    "\n",
    "    return transcript"
   ]
  },
  {
   "cell_type": "code",
   "execution_count": 10,
   "id": "680a7c3c-c939-4c46-a3c5-5591a6da573f",
   "metadata": {},
   "outputs": [],
   "source": [
    "#Translating RNA sequence from DNA sequence\n",
    "rna_seq = getTranscript(dna_seq)\n",
    "# print(rna_seq)"
   ]
  },
  {
   "cell_type": "markdown",
   "id": "d3758ce3-3421-4b43-9319-595305886a6b",
   "metadata": {
    "tags": []
   },
   "source": [
    "## Addition of nucleotide and individual reactions for the desired DNA\n",
    "\n",
    "Individually adds each nucleotide of the growing mRNA strand. "
   ]
  },
  {
   "cell_type": "code",
   "execution_count": 11,
   "id": "fc7fcd67-0331-4b1a-986d-a06d33ef2f45",
   "metadata": {
    "tags": []
   },
   "outputs": [],
   "source": [
    "#Start iternations to loop over mRNA sequence\n",
    "nt_len = len(rna_seq)\n",
    "mrna_length='0000'\n",
    "rxn_list=[]\n",
    "species_list=[]\n",
    "\n",
    "for L in [l for l in range(len(rna_seq))]:\n",
    "    ntp = rna_seq[L]\n",
    "    mrna0 = mrna_length[:-len(str(L))]+str(L) #starting mRNA\n",
    "    mrnaG = mrna_length[:-len(str(L+1))]+str(L+1) #Growing mRNA\n",
    "    \n",
    "    #Initiation of mRNA strand \n",
    "    if L == 0:       \n",
    "        T7RNAP_bound_mRNAmrna0 = Species('T7RNAP_bound_mRNA'+mrna0)\n",
    "        T7RNAP_bound_mRNAmrna0_ntp = Species('T7RNAP_bound_mRNA'+mrna0+'_'+ str(ntp))\n",
    "        T7RNAP_bound_mRNAmrnaG_nmp_PPi = Species('T7RNAP_bound_mRNA'+mrnaG+'_PPi')\n",
    "        T7RNAP_bound_mRNAmrnaG = Species('T7RNAP_bound_mRNA'+mrnaG)\n",
    "        \n",
    "        species= [T7RNAP_bound_mRNAmrna0, T7RNAP_bound_mRNAmrna0_ntp, T7RNAP_bound_mRNAmrnaG_nmp_PPi, T7RNAP_bound_mRNAmrnaG]\n",
    "        \n",
    "        rxns=[Reaction.from_massaction([T7RNAP_bound],[Species('T7RNAP_bound_mRNA'+mrna0)],k_forward=k_start), #can add DNA, DNA\n",
    "              Reaction.from_massaction([Species('T7RNAP_bound_mRNA'+mrna0), ntp], [Species('T7RNAP_bound_mRNA'+mrna0+'_'+ str(ntp))], k_forward=k_ntpbound),\n",
    "              Reaction.from_massaction([Species('T7RNAP_bound_mRNA'+mrna0+'_'+ str(ntp))],[Species('T7RNAP_bound_mRNA'+mrnaG+'_PPi')],k_forward=k_ntpadd),\n",
    "              Reaction.from_massaction([Species('T7RNAP_bound_mRNA'+mrnaG+'_PPi')],[Species('T7RNAP_bound_mRNA'+mrnaG), PPi],k_forward=k_ntpdis),] \n",
    "     \n",
    "    #Elongation of mRNA strand  \n",
    "    elif L<nt_len-1:\n",
    "        T7RNAP_bound_mRNAmrna0_ntp = Species('T7RNAP_bound_mRNA'+mrna0+'_'+ str(ntp))\n",
    "        T7RNAP_bound_mRNAmrnaG_nmp_PPi = Species('T7RNAP_bound_mRNA'+mrnaG+'_PPi')\n",
    "        T7RNAP_bound_mRNAmrnaG = Species('T7RNAP_bound_mRNA'+mrnaG)\n",
    "\n",
    "        species= [T7RNAP_bound_mRNAmrna0_ntp, T7RNAP_bound_mRNAmrnaG_nmp_PPi, T7RNAP_bound_mRNAmrnaG]\n",
    "            \n",
    "        if L==38:\n",
    "            rxns=[Reaction.from_massaction([Species('T7RNAP_bound_mRNA'+mrna0), ntp], [Species('T7RNAP_bound_mRNA'+mrna0+'_'+ str(ntp))], k_forward=k_ntpbound),\n",
    "              Reaction.from_massaction([Species('T7RNAP_bound_mRNA'+mrna0+'_'+ str(ntp))],[Species('T7RNAP_bound_mRNA'+mrnaG+'_PPi')],k_forward=k_ntpadd),\n",
    "              Reaction.from_massaction([Species('T7RNAP_bound_mRNA'+mrnaG+'_PPi')],[Species('T7RNAP_bound_mRNA'+mrnaG), PPi,MGapt],k_forward=k_ntpdis),] \n",
    "        else:\n",
    "            rxns=[Reaction.from_massaction([Species('T7RNAP_bound_mRNA'+mrna0), ntp], [Species('T7RNAP_bound_mRNA'+mrna0+'_'+ str(ntp))], k_forward=k_ntpbound),\n",
    "                  Reaction.from_massaction([Species('T7RNAP_bound_mRNA'+mrna0+'_'+ str(ntp))],[Species('T7RNAP_bound_mRNA'+mrnaG+'_PPi')],k_forward=k_ntpadd),\n",
    "                  Reaction.from_massaction([Species('T7RNAP_bound_mRNA'+mrnaG+'_PPi')],[Species('T7RNAP_bound_mRNA'+mrnaG), PPi,],k_forward=k_ntpdis),] \n",
    "        \n",
    "    #Termination of mRNA strand      \n",
    "    else:\n",
    "        T7RNAP_bound_mRNAmrna0_ntp = Species('T7RNAP_bound_mRNA'+mrna0+'_'+ str(ntp))\n",
    "        T7RNAP_bound_mRNAmrnaG_nmp_PPi = Species('T7RNAP_bound_mRNA'+mrnaG+'_PPi')\n",
    "        T7RNAP_bound_mRNAmrnaG = Species('T7RNAP_bound_mRNA'+mrnaG)\n",
    "        \n",
    "        species= [T7RNAP_bound_mRNAmrna0_ntp, T7RNAP_bound_mRNAmrnaG_nmp_PPi, T7RNAP_bound_mRNAmrnaG,]\n",
    "                   \n",
    "        rxns=[Reaction.from_massaction([Species('T7RNAP_bound_mRNA'+mrna0), ntp], [Species('T7RNAP_bound_mRNA'+mrna0+'_'+ str(ntp))], k_forward=k_ntpbound),\n",
    "              Reaction.from_massaction([Species('T7RNAP_bound_mRNA'+mrna0+'_'+ str(ntp))],[Species('T7RNAP_bound_mRNA'+mrnaG+'_PPi')],k_forward=k_ntpadd),  \n",
    "              Reaction.from_massaction([Species('T7RNAP_bound_mRNA'+mrnaG+'_PPi')],[Species('T7RNAP_bound_mRNA'+mrnaG), PPi],k_forward=k_ntpdis),\n",
    "              Reaction.from_massaction([Species('T7RNAP_bound_mRNA'+mrnaG),],[T7RNAP, DNA, mRNA_i,mRNA_t],k_forward=k_term)]#\n",
    "        \n",
    "    #Appending each reaction and species to the one before       \n",
    "    rxn_list.append(rxns)\n",
    "    species_list.append(species)\n",
    "\n",
    "#Flattening to th nested lists \n",
    "species_list = flatten(species_list)\n",
    "rxn_list= flatten(rxn_list)"
   ]
  },
  {
   "cell_type": "markdown",
   "id": "e6d6668c-bea6-44f1-b6e8-eff89d721b9f",
   "metadata": {
    "tags": []
   },
   "source": [
    "# Combining CRN_TX"
   ]
  },
  {
   "cell_type": "code",
   "execution_count": 12,
   "id": "81c939c0-eece-4441-b13a-cfceef5c42c4",
   "metadata": {
    "tags": []
   },
   "outputs": [
    {
     "data": {
      "text/plain": [
       "(344, 355)"
      ]
     },
     "execution_count": 12,
     "metadata": {},
     "output_type": "execute_result"
    }
   ],
   "source": [
    "#List of all species and reactions\n",
    "All_species_TX = flatten([Species_general, species_list])\n",
    "All_rxn_TX = flatten([RXN_general, rxn_list])\n",
    "\n",
    "#IC for Transcription only reactions\n",
    "initial_con={'T7RNAP':(1), 'DNA':(.005), 'ATP':(3750), 'GTP':(2500), 'CTP':(1250), 'UTP':(1250),'mRNA_i':0} #in uM\n",
    "\n",
    "#Buliding the CRN_TX and saving as a SBML file\n",
    "CRN_TX = ChemicalReactionNetwork(species = All_species_TX, reactions = All_rxn_TX)\n",
    "filename='CRN_PURE_MGaptTXonly'\n",
    "CRN_TX.write_sbml_file(filename+\".xml\")\n",
    "\n",
    "len(CRN_TX.reactions),len(CRN_TX.species)\n",
    "#MGapt_only:  (344, 355)"
   ]
  },
  {
   "cell_type": "markdown",
   "id": "622ef97e-bdc9-4c60-801c-43b78c229e30",
   "metadata": {
    "tags": []
   },
   "source": [
    "## Update model"
   ]
  },
  {
   "cell_type": "code",
   "execution_count": 13,
   "id": "de4bca36-34a1-4fb3-883e-e0e64003ebb0",
   "metadata": {
    "tags": []
   },
   "outputs": [],
   "source": [
    "def update_model_local_to_global_params(filename):\n",
    "    import libsbml\n",
    "    # rename parameters in sbml file so that they have same ID\n",
    "    sbml_doc = libsbml.readSBMLFromFile(filename) # load your old SBML file\n",
    "    param_dict = {}\n",
    "    sbml_model = sbml_doc.getModel()\n",
    "    for rxn in sbml_model.getListOfReactions():\n",
    "        kl = rxn.getKineticLaw()\n",
    "        for param in kl.getListOfLocalParameters():\n",
    "            param_dict[param.getValue()] = param.getId()\n",
    "    added_params = []\n",
    "    changelog = {}\n",
    "    count = 0\n",
    "    for p_val, p in param_dict.items():\n",
    "        sbml_param = sbml_model.createParameter()\n",
    "        if p in added_params:\n",
    "            p_new = p+str(count)\n",
    "            changelog[p_val] = p_new\n",
    "            sbml_param.setId(p_new)\n",
    "            added_params.append(p_new)\n",
    "        else:\n",
    "            sbml_param.setId(p)\n",
    "            added_params.append(p)\n",
    "        count += 1\n",
    "        sbml_param.setValue(p_val)\n",
    "        sbml_param.setConstant(False)\n",
    "\n",
    "    for rxn in sbml_model.getListOfReactions():\n",
    "        kl = rxn.getKineticLaw()\n",
    "        for param in list(kl.getListOfLocalParameters()):\n",
    "            if param.getValue() in changelog:\n",
    "                # print('renaming {0} with {1}'.format(param.getId(), changelog[param.getValue()]))\n",
    "                kl.setFormula(kl.getFormula().replace(param.getId(), changelog[param.getValue()]))\n",
    "            kl.removeLocalParameter(param.getId())\n",
    "\n",
    "\n",
    "    updated_filname = filename.split('.xml')[0] + '_updated.xml'\n",
    "\n",
    "    libsbml.writeSBML(sbml_doc, updated_filname) # write your new SBML"
   ]
  },
  {
   "cell_type": "code",
   "execution_count": 14,
   "id": "cfe7bc91-cc1f-4fa8-9fbd-acec21d1b90e",
   "metadata": {
    "tags": []
   },
   "outputs": [],
   "source": [
    "update_model_local_to_global_params(filename+'.xml')"
   ]
  },
  {
   "cell_type": "markdown",
   "id": "44a6154f-1363-49ca-b615-5fdf1c9b7058",
   "metadata": {
    "tags": []
   },
   "source": [
    "# Run sensitivity analysis"
   ]
  },
  {
   "cell_type": "code",
   "execution_count": 15,
   "id": "f15fb8eb-d734-4af7-85ce-188de8d4e0f3",
   "metadata": {
    "tags": []
   },
   "outputs": [
    {
     "name": "stderr",
     "output_type": "stream",
     "text": [
      "C:\\Users\\zoila\\anaconda3\\envs\\python38\\lib\\site-packages\\bioscrape\\analysis.py:244: RuntimeWarning: invalid value encountered in divide\n",
      "  SSM_normalized[:,j,i] = np.divide(SSM[:,j,i]*params_values[j], solutions[:,i])\n"
     ]
    }
   ],
   "source": [
    "\"\"\"To run this file on HPC, simply run:\n",
    "`sbatch sensitivity_analysis.sh`\n",
    "\"\"\"\n",
    "import numpy as np\n",
    "import pandas as pd\n",
    "\n",
    "from bioscrape.simulator import py_simulate_model, ModelCSimInterface, DeterministicSimulator\n",
    "from bioscrape.inference import py_inference\n",
    "from bioscrape.analysis import py_sensitivity_analysis\n",
    "\n",
    "import matplotlib.pyplot as plt\n",
    "from bioscrape.types import Model\n",
    "import time\n",
    "import pandas as pd\n",
    "import warnings\n",
    "import seaborn as sn\n",
    "\n",
    "#IC for Transcription only reactions\n",
    "initial_con={'T7RNAP':(1), 'DNA':(.005), 'ATP':(3750), 'GTP':(2500), 'CTP':(1250), 'UTP':(1250),'mRNA_i':0}\n",
    "timepoints = np.linspace(0, 3*3600, 3*180)\n",
    "\n",
    "m = Model(sbml_filename = filename+\"_updated.xml\")\n",
    "m.set_species(initial_con)\n",
    "ssm = py_sensitivity_analysis(model = m, timepoints = timepoints, normalize = True)\n"
   ]
  },
  {
   "cell_type": "code",
   "execution_count": 16,
   "id": "94bdc1c6-4fa0-48b8-9f03-f4049610235b",
   "metadata": {
    "tags": []
   },
   "outputs": [],
   "source": [
    "SSM=np.around(ssm[:,:,m.get_species2index()[\"MGapt\"]].T, decimals=3, out=None)"
   ]
  },
  {
   "cell_type": "code",
   "execution_count": 19,
   "id": "84314795-bc86-4f1b-9436-b4daa1a5e3df",
   "metadata": {
    "tags": []
   },
   "outputs": [],
   "source": [
    "np.savetxt('Inferencing_MGapt/Sensitivity_CRN_PURE_MGaptTXonly.csv', SSM, delimiter=',')"
   ]
  },
  {
   "cell_type": "code",
   "execution_count": 18,
   "id": "739eee7b-0e13-47d2-8b11-89b6e2f46b09",
   "metadata": {
    "tags": []
   },
   "outputs": [
    {
     "data": {
      "image/png": "[encoded data removed]",
      "text/plain": [
       "<Figure size 1500x800 with 2 Axes>"
      ]
     },
     "metadata": {},
     "output_type": "display_data"
    }
   ],
   "source": [
    "import seaborn as sn\n",
    "figsize = (15,8)\n",
    "fig, ax = plt.subplots(figsize=figsize)\n",
    "index = 1\n",
    "params_names_latex = ['$k_{1}$', '$k_{2}$', '$k_{3}$',\n",
    "                      '$k_{start}$','$k_{ntpbound}$','$k_{NTPadd}$',\n",
    "                      '$k_{NTP_dis}$','$k_{term}$',]\n",
    "# Round the timepoints\n",
    "rounded_timepoints = np.round(np.linspace(timepoints[0] / 3600, timepoints[-1] / 3600, len(timepoints),\n",
    "                                           endpoint=True, dtype='float'), 1)\n",
    "\n",
    "sn_ax = sn.heatmap(SSM, ax = ax, annot=False, cmap = 'YlGnBu',\n",
    "                   xticklabels = rounded_timepoints, center=0,)\n",
    "\n",
    "sn_ax.figure.axes[-1].xaxis.label.set_size(20)\n",
    "ax = fig.axes\n",
    "_ = plt.xlabel('Time (h)', fontsize = 14)\n",
    "_ = plt.ylabel('Parameters', fontsize = 14)\n",
    "_ = ax[0].tick_params(axis='x', which='major', labelsize=12, bottom = False)\n",
    "_ = ax[0].tick_params(axis='y', which='major', labelsize=12, left = False)\n",
    "_ = ax[0].set_yticklabels(params_names_latex)\n",
    "every_nth =50\n",
    "for n, label in enumerate(ax[0].xaxis.get_ticklabels()):\n",
    "    if n == len(timepoints)-1:\n",
    "        continue\n",
    "    if n % every_nth != 0:\n",
    "        label.set_visible(False)\n",
    "_ = ax[1].tick_params(axis = 'x', labelsize = 18)\n",
    "_ = plt.savefig('Figures/PURE_CRN_TX-sensitivity_MGapt.svg')\n",
    "plt.show()"
   ]
  },
  {
   "cell_type": "code",
   "execution_count": 20,
   "id": "3751b471-64c2-4cfb-bbed-da40892c3db8",
   "metadata": {
    "tags": []
   },
   "outputs": [
    {
     "name": "stdout",
     "output_type": "stream",
     "text": [
      "$k_{1}$ 0.0\n",
      "$k_{2}$ 0.06018090452261306\n",
      "$k_{3}$ 0.022939698492462312\n",
      "$k_{start}$ 0.033924623115577895\n",
      "$k_{ntpbound}$ 0.0073668341708542735\n",
      "$k_{NTPadd}$ 0.8478391959798995\n",
      "$k_{NTP_dis}$ 0.02099999999999999\n",
      "$k_{term}$ 0.004999999999999999\n"
     ]
    }
   ],
   "source": [
    "for x in range(len(params_names_latex)):\n",
    "    print(params_names_latex[x], SSM[x,1:200].mean())"
   ]
  },
  {
   "cell_type": "markdown",
   "id": "895f18f8-ef62-43a3-9946-59b0f23ee0ea",
   "metadata": {
    "tags": []
   },
   "source": [
    "### Most sensitive parameters\n",
    "$k_{1}$ 0.0\n",
    "$k_{2}$ 0.06018090452261306\n",
    "$k_{3}$ 0.022939698492462312\n",
    "$k_{start}$ 0.033924623115577895\n",
    "$k_{ntpbound}$ 0.0073668341708542735\n",
    "$k_{NTPadd}$ 0.8478391959798995\n",
    "$k_{NTP_dis}$ 0.02099999999999999\n",
    "$k_{term}$ 0.004999999999999999"
   ]
  },
  {
   "cell_type": "markdown",
   "id": "9915977c-9a93-48b4-9ba0-13a346117c27",
   "metadata": {
    "tags": []
   },
   "source": [
    "# Computing environment"
   ]
  },
  {
   "cell_type": "code",
   "execution_count": 21,
   "id": "f3c669e6-0904-4e3f-a847-3f36de416973",
   "metadata": {},
   "outputs": [
    {
     "name": "stdout",
     "output_type": "stream",
     "text": [
      "Python implementation: CPython\n",
      "Python version       : 3.8.17\n",
      "IPython version      : 8.12.2\n",
      "\n",
      "bioscrape  : 1.2.1\n",
      "bokeh      : 2.4.0\n",
      "panel      : 0.13.1\n",
      "jupyterlab : 3.6.5\n",
      "biocrnpyler: 1.1.1\n",
      "\n"
     ]
    }
   ],
   "source": [
    "%load_ext watermark\n",
    "%watermark -v -p bioscrape,bokeh,panel,jupyterlab,biocrnpyler"
   ]
  }
 ],
 "metadata": {
  "kernelspec": {
   "display_name": "Python 3 (ipykernel)",
   "language": "python",
   "name": "python3"
  },
  "language_info": {
   "codemirror_mode": {
    "name": "ipython",
    "version": 3
   },
   "file_extension": ".py",
   "mimetype": "text/x-python",
   "name": "python",
   "nbconvert_exporter": "python",
   "pygments_lexer": "ipython3",
   "version": "3.8.17"
  }
 },
 "nbformat": 4,
 "nbformat_minor": 5
}
