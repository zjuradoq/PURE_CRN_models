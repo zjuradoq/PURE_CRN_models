{
 "cells": [
  {
   "cell_type": "markdown",
   "id": "e4bfdeac-b6f2-4843-be25-81c3c7f1ac74",
   "metadata": {
    "tags": []
   },
   "source": [
    "# PURE TX-only Model in BioCRNpyler\n",
    "Zoila Jurado [1,*], Ayush Pandey [1], Richard M. Murray [1,2]\n",
    "\n",
    "August 8, 2023\n",
    "\n",
    "[1] Division of Engineering and Applied Science, California Institute of Technology, Pasadena, CA \\\n",
    "[2] Division of Biology and Biological Engineering, California Institute of Technology, Pasadena, CA \\\n",
    "[*] Corresponding author: zjuradoq@caltech.edu"
   ]
  },
  {
   "cell_type": "markdown",
   "id": "057700c5-8de8-4a5f-b433-9c33480ec4f3",
   "metadata": {},
   "source": [
    "In this notebook, we built a chemical reaction network transcription model for PURE protein synthesis. This model is based on the TX-TL from Tuza *et al.* [1] originally built for cell lysate protein expression. This section of code requires a DNA sequence input from the user. This TX-only model was used in the parameter inferencing and sensitivity analysis described in the BioRxiv paper. The steps of the TX are split into 3 subsections: species and reactions based on nucleotide needed (1), generates complement sequence (2), and species and reactions of growing mRNA strand (3). \n",
    "<ol>\n",
    "  <li>Non-nucleic acid Species and Reactions</li>\n",
    "  <li>RNA sequence</li>\n",
    "  <li> Addition of nucleotide and individual reactions for the desired DNA </li>\n",
    "</ol>\n",
    " \n",
    "### Citation:\n",
    "[1] Zoltán A. Tuza, Dan Siegal-Gaskins, Jongmin Kim, and Gábor Szederkényi. Analysis-based parameter estimation of an *in vitro* transcription-translation system. In Eur. Control Conf. 2015, page 1554–1560, 2015. ([PNAS, 2015](https://ieeexplore.ieee.org/document/7330760))"
   ]
  },
  {
   "cell_type": "markdown",
   "id": "b2b80752-276b-4403-b4a3-305ab8835989",
   "metadata": {
    "tags": []
   },
   "source": [
    "## Importing required packages and definitions"
   ]
  },
  {
   "cell_type": "code",
   "execution_count": 1,
   "id": "3f3c0271-8ae2-4406-a8dc-c4e17985d5ef",
   "metadata": {},
   "outputs": [],
   "source": [
    "import biocrnpyler\n",
    "from biocrnpyler import *\n",
    "from biocrnpyler.component import Component\n",
    "from biocrnpyler.chemical_reaction_network import Species, Reaction, ChemicalReactionNetwork\n",
    "from biocrnpyler.mechanism import Mechanism\n",
    "from biocrnpyler.reaction import Reaction\n",
    "from biocrnpyler.species import Complex, Species, WeightedSpecies\n",
    "\n",
    "import bioscrape\n",
    "\n",
    "from typing import List, Union\n",
    "import numpy as np\n",
    "import pandas as pd\n",
    "import pylab as plt\n",
    "import csv\n",
    "import numpy as np\n",
    "import pandas as pd\n",
    "import math\n",
    "import seaborn as sns; sns.set()\n",
    "import matplotlib.pyplot as plt\n",
    "import random \n",
    "import time\n",
    "import datetime\n",
    "from itertools import groupby\n",
    "import libsbml\n",
    "import itertools as it\n",
    "import itertools as it\n",
    "\n",
    "#Get directory\n",
    "import os\n",
    "directory = os.getcwd()\n",
    "\n",
    "def flatten(t):\n",
    "    return [item for sublist in t for item in sublist]\n",
    "\n",
    "t0=time.time()"
   ]
  },
  {
   "cell_type": "markdown",
   "id": "164549f9-ba56-4948-951e-e857d35636ae",
   "metadata": {
    "tags": []
   },
   "source": [
    "### Bokeh"
   ]
  },
  {
   "cell_type": "code",
   "execution_count": 2,
   "id": "ccb1c46e-9aa9-401e-ac07-88a76b96e685",
   "metadata": {},
   "outputs": [
    {
     "data": {
      "text/html": [
       "\n",
       "    <div class=\"bk-root\">\n",
       "        <a href=\"https://bokeh.org\" target=\"_blank\" class=\"bk-logo bk-logo-small bk-logo-notebook\"></a>\n",
       "        <span id=\"1002\">Loading BokehJS ...</span>\n",
       "    </div>"
      ]
     },
     "metadata": {},
     "output_type": "display_data"
    },
    {
     "data": {
      "application/javascript": [
       "\n",
       "(function(root) {\n",
       "  function now() {\n",
       "    return new Date();\n",
       "  }\n",
       "\n",
       "  const force = true;\n",
       "\n",
       "  if (typeof root._bokeh_onload_callbacks === \"undefined\" || force === true) {\n",
       "    root._bokeh_onload_callbacks = [];\n",
       "    root._bokeh_is_loading = undefined;\n",
       "  }\n",
       "\n",
       "  const JS_MIME_TYPE = 'application/javascript';\n",
       "  const HTML_MIME_TYPE = 'text/html';\n",
       "  const EXEC_MIME_TYPE = 'application/vnd.bokehjs_exec.v0+json';\n",
       "  const CLASS_NAME = 'output_bokeh rendered_html';\n",
       "\n",
       "  /**\n",
       "   * Render data to the DOM node\n",
       "   */\n",
       "  function render(props, node) {\n",
       "    const script = document.createElement(\"script\");\n",
       "    node.appendChild(script);\n",
       "  }\n",
       "\n",
       "  /**\n",
       "   * Handle when an output is cleared or removed\n",
       "   */\n",
       "  function handleClearOutput(event, handle) {\n",
       "    const cell = handle.cell;\n",
       "\n",
       "    const id = cell.output_area._bokeh_element_id;\n",
       "    const server_id = cell.output_area._bokeh_server_id;\n",
       "    // Clean up Bokeh references\n",
       "    if (id != null && id in Bokeh.index) {\n",
       "      Bokeh.index[id].model.document.clear();\n",
       "      delete Bokeh.index[id];\n",
       "    }\n",
       "\n",
       "    if (server_id !== undefined) {\n",
       "      // Clean up Bokeh references\n",
       "      const cmd_clean = \"from bokeh.io.state import curstate; print(curstate().uuid_to_server['\" + server_id + \"'].get_sessions()[0].document.roots[0]._id)\";\n",
       "      cell.notebook.kernel.execute(cmd_clean, {\n",
       "        iopub: {\n",
       "          output: function(msg) {\n",
       "            const id = msg.content.text.trim();\n",
       "            if (id in Bokeh.index) {\n",
       "              Bokeh.index[id].model.document.clear();\n",
       "              delete Bokeh.index[id];\n",
       "            }\n",
       "          }\n",
       "        }\n",
       "      });\n",
       "      // Destroy server and session\n",
       "      const cmd_destroy = \"import bokeh.io.notebook as ion; ion.destroy_server('\" + server_id + \"')\";\n",
       "      cell.notebook.kernel.execute(cmd_destroy);\n",
       "    }\n",
       "  }\n",
       "\n",
       "  /**\n",
       "   * Handle when a new output is added\n",
       "   */\n",
       "  function handleAddOutput(event, handle) {\n",
       "    const output_area = handle.output_area;\n",
       "    const output = handle.output;\n",
       "\n",
       "    // limit handleAddOutput to display_data with EXEC_MIME_TYPE content only\n",
       "    if ((output.output_type != \"display_data\") || (!Object.prototype.hasOwnProperty.call(output.data, EXEC_MIME_TYPE))) {\n",
       "      return\n",
       "    }\n",
       "\n",
       "    const toinsert = output_area.element.find(\".\" + CLASS_NAME.split(' ')[0]);\n",
       "\n",
       "    if (output.metadata[EXEC_MIME_TYPE][\"id\"] !== undefined) {\n",
       "      toinsert[toinsert.length - 1].firstChild.textContent = output.data[JS_MIME_TYPE];\n",
       "      // store reference to embed id on output_area\n",
       "      output_area._bokeh_element_id = output.metadata[EXEC_MIME_TYPE][\"id\"];\n",
       "    }\n",
       "    if (output.metadata[EXEC_MIME_TYPE][\"server_id\"] !== undefined) {\n",
       "      const bk_div = document.createElement(\"div\");\n",
       "      bk_div.innerHTML = output.data[HTML_MIME_TYPE];\n",
       "      const script_attrs = bk_div.children[0].attributes;\n",
       "      for (let i = 0; i < script_attrs.length; i++) {\n",
       "        toinsert[toinsert.length - 1].firstChild.setAttribute(script_attrs[i].name, script_attrs[i].value);\n",
       "        toinsert[toinsert.length - 1].firstChild.textContent = bk_div.children[0].textContent\n",
       "      }\n",
       "      // store reference to server id on output_area\n",
       "      output_area._bokeh_server_id = output.metadata[EXEC_MIME_TYPE][\"server_id\"];\n",
       "    }\n",
       "  }\n",
       "\n",
       "  function register_renderer(events, OutputArea) {\n",
       "\n",
       "    function append_mime(data, metadata, element) {\n",
       "      // create a DOM node to render to\n",
       "      const toinsert = this.create_output_subarea(\n",
       "        metadata,\n",
       "        CLASS_NAME,\n",
       "        EXEC_MIME_TYPE\n",
       "      );\n",
       "      this.keyboard_manager.register_events(toinsert);\n",
       "      // Render to node\n",
       "      const props = {data: data, metadata: metadata[EXEC_MIME_TYPE]};\n",
       "      render(props, toinsert[toinsert.length - 1]);\n",
       "      element.append(toinsert);\n",
       "      return toinsert\n",
       "    }\n",
       "\n",
       "    /* Handle when an output is cleared or removed */\n",
       "    events.on('clear_output.CodeCell', handleClearOutput);\n",
       "    events.on('delete.Cell', handleClearOutput);\n",
       "\n",
       "    /* Handle when a new output is added */\n",
       "    events.on('output_added.OutputArea', handleAddOutput);\n",
       "\n",
       "    /**\n",
       "     * Register the mime type and append_mime function with output_area\n",
       "     */\n",
       "    OutputArea.prototype.register_mime_type(EXEC_MIME_TYPE, append_mime, {\n",
       "      /* Is output safe? */\n",
       "      safe: true,\n",
       "      /* Index of renderer in `output_area.display_order` */\n",
       "      index: 0\n",
       "    });\n",
       "  }\n",
       "\n",
       "  // register the mime type if in Jupyter Notebook environment and previously unregistered\n",
       "  if (root.Jupyter !== undefined) {\n",
       "    const events = require('base/js/events');\n",
       "    const OutputArea = require('notebook/js/outputarea').OutputArea;\n",
       "\n",
       "    if (OutputArea.prototype.mime_types().indexOf(EXEC_MIME_TYPE) == -1) {\n",
       "      register_renderer(events, OutputArea);\n",
       "    }\n",
       "  }\n",
       "\n",
       "  \n",
       "  if (typeof (root._bokeh_timeout) === \"undefined\" || force === true) {\n",
       "    root._bokeh_timeout = Date.now() + 5000;\n",
       "    root._bokeh_failed_load = false;\n",
       "  }\n",
       "\n",
       "  const NB_LOAD_WARNING = {'data': {'text/html':\n",
       "     \"<div style='background-color: #fdd'>\\n\"+\n",
       "     \"<p>\\n\"+\n",
       "     \"BokehJS does not appear to have successfully loaded. If loading BokehJS from CDN, this \\n\"+\n",
       "     \"may be due to a slow or bad network connection. Possible fixes:\\n\"+\n",
       "     \"</p>\\n\"+\n",
       "     \"<ul>\\n\"+\n",
       "     \"<li>re-rerun `output_notebook()` to attempt to load from CDN again, or</li>\\n\"+\n",
       "     \"<li>use INLINE resources instead, as so:</li>\\n\"+\n",
       "     \"</ul>\\n\"+\n",
       "     \"<code>\\n\"+\n",
       "     \"from bokeh.resources import INLINE\\n\"+\n",
       "     \"output_notebook(resources=INLINE)\\n\"+\n",
       "     \"</code>\\n\"+\n",
       "     \"</div>\"}};\n",
       "\n",
       "  function display_loaded() {\n",
       "    const el = document.getElementById(\"1002\");\n",
       "    if (el != null) {\n",
       "      el.textContent = \"BokehJS is loading...\";\n",
       "    }\n",
       "    if (root.Bokeh !== undefined) {\n",
       "      if (el != null) {\n",
       "        el.textContent = \"BokehJS \" + root.Bokeh.version + \" successfully loaded.\";\n",
       "      }\n",
       "    } else if (Date.now() < root._bokeh_timeout) {\n",
       "      setTimeout(display_loaded, 100)\n",
       "    }\n",
       "  }\n",
       "\n",
       "\n",
       "  function run_callbacks() {\n",
       "    try {\n",
       "      root._bokeh_onload_callbacks.forEach(function(callback) {\n",
       "        if (callback != null)\n",
       "          callback();\n",
       "      });\n",
       "    } finally {\n",
       "      delete root._bokeh_onload_callbacks\n",
       "    }\n",
       "    console.debug(\"Bokeh: all callbacks have finished\");\n",
       "  }\n",
       "\n",
       "  function load_libs(css_urls, js_urls, callback) {\n",
       "    if (css_urls == null) css_urls = [];\n",
       "    if (js_urls == null) js_urls = [];\n",
       "\n",
       "    root._bokeh_onload_callbacks.push(callback);\n",
       "    if (root._bokeh_is_loading > 0) {\n",
       "      console.debug(\"Bokeh: BokehJS is being loaded, scheduling callback at\", now());\n",
       "      return null;\n",
       "    }\n",
       "    if (js_urls == null || js_urls.length === 0) {\n",
       "      run_callbacks();\n",
       "      return null;\n",
       "    }\n",
       "    console.debug(\"Bokeh: BokehJS not loaded, scheduling load and callback at\", now());\n",
       "    root._bokeh_is_loading = css_urls.length + js_urls.length;\n",
       "\n",
       "    function on_load() {\n",
       "      root._bokeh_is_loading--;\n",
       "      if (root._bokeh_is_loading === 0) {\n",
       "        console.debug(\"Bokeh: all BokehJS libraries/stylesheets loaded\");\n",
       "        run_callbacks()\n",
       "      }\n",
       "    }\n",
       "\n",
       "    function on_error(url) {\n",
       "      console.error(\"failed to load \" + url);\n",
       "    }\n",
       "\n",
       "    for (let i = 0; i < css_urls.length; i++) {\n",
       "      const url = css_urls[i];\n",
       "      const element = document.createElement(\"link\");\n",
       "      element.onload = on_load;\n",
       "      element.onerror = on_error.bind(null, url);\n",
       "      element.rel = \"stylesheet\";\n",
       "      element.type = \"text/css\";\n",
       "      element.href = url;\n",
       "      console.debug(\"Bokeh: injecting link tag for BokehJS stylesheet: \", url);\n",
       "      document.body.appendChild(element);\n",
       "    }\n",
       "\n",
       "    for (let i = 0; i < js_urls.length; i++) {\n",
       "      const url = js_urls[i];\n",
       "      const element = document.createElement('script');\n",
       "      element.onload = on_load;\n",
       "      element.onerror = on_error.bind(null, url);\n",
       "      element.async = false;\n",
       "      element.src = url;\n",
       "      console.debug(\"Bokeh: injecting script tag for BokehJS library: \", url);\n",
       "      document.head.appendChild(element);\n",
       "    }\n",
       "  };\n",
       "\n",
       "  function inject_raw_css(css) {\n",
       "    const element = document.createElement(\"style\");\n",
       "    element.appendChild(document.createTextNode(css));\n",
       "    document.body.appendChild(element);\n",
       "  }\n",
       "\n",
       "  \n",
       "  const js_urls = [\"https://cdn.bokeh.org/bokeh/release/bokeh-2.4.0.min.js\", \"https://cdn.bokeh.org/bokeh/release/bokeh-gl-2.4.0.min.js\", \"https://cdn.bokeh.org/bokeh/release/bokeh-widgets-2.4.0.min.js\", \"https://cdn.bokeh.org/bokeh/release/bokeh-tables-2.4.0.min.js\", \"https://cdn.bokeh.org/bokeh/release/bokeh-mathjax-2.4.0.min.js\"];\n",
       "  const css_urls = [];\n",
       "  \n",
       "\n",
       "  const inline_js = [\n",
       "    function(Bokeh) {\n",
       "      Bokeh.set_log_level(\"info\");\n",
       "    },\n",
       "    function(Bokeh) {\n",
       "    \n",
       "    \n",
       "    }\n",
       "  ];\n",
       "\n",
       "  function run_inline_js() {\n",
       "    \n",
       "    if (root.Bokeh !== undefined || force === true) {\n",
       "      \n",
       "    for (let i = 0; i < inline_js.length; i++) {\n",
       "      inline_js[i].call(root, root.Bokeh);\n",
       "    }\n",
       "    if (force === true) {\n",
       "        display_loaded();\n",
       "      }} else if (Date.now() < root._bokeh_timeout) {\n",
       "      setTimeout(run_inline_js, 100);\n",
       "    } else if (!root._bokeh_failed_load) {\n",
       "      console.log(\"Bokeh: BokehJS failed to load within specified timeout.\");\n",
       "      root._bokeh_failed_load = true;\n",
       "    } else if (force !== true) {\n",
       "      const cell = $(document.getElementById(\"1002\")).parents('.cell').data().cell;\n",
       "      cell.output_area.append_execute_result(NB_LOAD_WARNING)\n",
       "    }\n",
       "\n",
       "  }\n",
       "\n",
       "  if (root._bokeh_is_loading === 0) {\n",
       "    console.debug(\"Bokeh: BokehJS loaded, going straight to plotting\");\n",
       "    run_inline_js();\n",
       "  } else {\n",
       "    load_libs(css_urls, js_urls, function() {\n",
       "      console.debug(\"Bokeh: BokehJS plotting callback run at\", now());\n",
       "      run_inline_js();\n",
       "    });\n",
       "  }\n",
       "}(window));"
      ],
      "application/vnd.bokehjs_load.v0+json": "\n(function(root) {\n  function now() {\n    return new Date();\n  }\n\n  const force = true;\n\n  if (typeof root._bokeh_onload_callbacks === \"undefined\" || force === true) {\n    root._bokeh_onload_callbacks = [];\n    root._bokeh_is_loading = undefined;\n  }\n\n  \n\n  \n  if (typeof (root._bokeh_timeout) === \"undefined\" || force === true) {\n    root._bokeh_timeout = Date.now() + 5000;\n    root._bokeh_failed_load = false;\n  }\n\n  const NB_LOAD_WARNING = {'data': {'text/html':\n     \"<div style='background-color: #fdd'>\\n\"+\n     \"<p>\\n\"+\n     \"BokehJS does not appear to have successfully loaded. If loading BokehJS from CDN, this \\n\"+\n     \"may be due to a slow or bad network connection. Possible fixes:\\n\"+\n     \"</p>\\n\"+\n     \"<ul>\\n\"+\n     \"<li>re-rerun `output_notebook()` to attempt to load from CDN again, or</li>\\n\"+\n     \"<li>use INLINE resources instead, as so:</li>\\n\"+\n     \"</ul>\\n\"+\n     \"<code>\\n\"+\n     \"from bokeh.resources import INLINE\\n\"+\n     \"output_notebook(resources=INLINE)\\n\"+\n     \"</code>\\n\"+\n     \"</div>\"}};\n\n  function display_loaded() {\n    const el = document.getElementById(\"1002\");\n    if (el != null) {\n      el.textContent = \"BokehJS is loading...\";\n    }\n    if (root.Bokeh !== undefined) {\n      if (el != null) {\n        el.textContent = \"BokehJS \" + root.Bokeh.version + \" successfully loaded.\";\n      }\n    } else if (Date.now() < root._bokeh_timeout) {\n      setTimeout(display_loaded, 100)\n    }\n  }\n\n\n  function run_callbacks() {\n    try {\n      root._bokeh_onload_callbacks.forEach(function(callback) {\n        if (callback != null)\n          callback();\n      });\n    } finally {\n      delete root._bokeh_onload_callbacks\n    }\n    console.debug(\"Bokeh: all callbacks have finished\");\n  }\n\n  function load_libs(css_urls, js_urls, callback) {\n    if (css_urls == null) css_urls = [];\n    if (js_urls == null) js_urls = [];\n\n    root._bokeh_onload_callbacks.push(callback);\n    if (root._bokeh_is_loading > 0) {\n      console.debug(\"Bokeh: BokehJS is being loaded, scheduling callback at\", now());\n      return null;\n    }\n    if (js_urls == null || js_urls.length === 0) {\n      run_callbacks();\n      return null;\n    }\n    console.debug(\"Bokeh: BokehJS not loaded, scheduling load and callback at\", now());\n    root._bokeh_is_loading = css_urls.length + js_urls.length;\n\n    function on_load() {\n      root._bokeh_is_loading--;\n      if (root._bokeh_is_loading === 0) {\n        console.debug(\"Bokeh: all BokehJS libraries/stylesheets loaded\");\n        run_callbacks()\n      }\n    }\n\n    function on_error(url) {\n      console.error(\"failed to load \" + url);\n    }\n\n    for (let i = 0; i < css_urls.length; i++) {\n      const url = css_urls[i];\n      const element = document.createElement(\"link\");\n      element.onload = on_load;\n      element.onerror = on_error.bind(null, url);\n      element.rel = \"stylesheet\";\n      element.type = \"text/css\";\n      element.href = url;\n      console.debug(\"Bokeh: injecting link tag for BokehJS stylesheet: \", url);\n      document.body.appendChild(element);\n    }\n\n    for (let i = 0; i < js_urls.length; i++) {\n      const url = js_urls[i];\n      const element = document.createElement('script');\n      element.onload = on_load;\n      element.onerror = on_error.bind(null, url);\n      element.async = false;\n      element.src = url;\n      console.debug(\"Bokeh: injecting script tag for BokehJS library: \", url);\n      document.head.appendChild(element);\n    }\n  };\n\n  function inject_raw_css(css) {\n    const element = document.createElement(\"style\");\n    element.appendChild(document.createTextNode(css));\n    document.body.appendChild(element);\n  }\n\n  \n  const js_urls = [\"https://cdn.bokeh.org/bokeh/release/bokeh-2.4.0.min.js\", \"https://cdn.bokeh.org/bokeh/release/bokeh-gl-2.4.0.min.js\", \"https://cdn.bokeh.org/bokeh/release/bokeh-widgets-2.4.0.min.js\", \"https://cdn.bokeh.org/bokeh/release/bokeh-tables-2.4.0.min.js\", \"https://cdn.bokeh.org/bokeh/release/bokeh-mathjax-2.4.0.min.js\"];\n  const css_urls = [];\n  \n\n  const inline_js = [\n    function(Bokeh) {\n      Bokeh.set_log_level(\"info\");\n    },\n    function(Bokeh) {\n    \n    \n    }\n  ];\n\n  function run_inline_js() {\n    \n    if (root.Bokeh !== undefined || force === true) {\n      \n    for (let i = 0; i < inline_js.length; i++) {\n      inline_js[i].call(root, root.Bokeh);\n    }\n    if (force === true) {\n        display_loaded();\n      }} else if (Date.now() < root._bokeh_timeout) {\n      setTimeout(run_inline_js, 100);\n    } else if (!root._bokeh_failed_load) {\n      console.log(\"Bokeh: BokehJS failed to load within specified timeout.\");\n      root._bokeh_failed_load = true;\n    } else if (force !== true) {\n      const cell = $(document.getElementById(\"1002\")).parents('.cell').data().cell;\n      cell.output_area.append_execute_result(NB_LOAD_WARNING)\n    }\n\n  }\n\n  if (root._bokeh_is_loading === 0) {\n    console.debug(\"Bokeh: BokehJS loaded, going straight to plotting\");\n    run_inline_js();\n  } else {\n    load_libs(css_urls, js_urls, function() {\n      console.debug(\"Bokeh: BokehJS plotting callback run at\", now());\n      run_inline_js();\n    });\n  }\n}(window));"
     },
     "metadata": {},
     "output_type": "display_data"
    }
   ],
   "source": [
    "%matplotlib inline\n",
    "import bokeh.io\n",
    "import bokeh.plotting\n",
    "bokeh.io.output_notebook()\n",
    "from bokeh.themes import Theme\n",
    "\n",
    "# Modules needed from Bokeh.\n",
    "from bokeh.io import output_file, show\n",
    "from bokeh.plotting import figure\n",
    "from bokeh.models import LinearAxis, Range1d\n",
    "\n",
    "colors = bokeh.palettes.Colorblind[8]\n",
    "\n",
    "try:\n",
    "    import dnaplotlib as dpl\n",
    "    dpl_enabled = True\n",
    "except (ModuleNotFoundError,ImportError) as e:\n",
    "    dpl_enabled = False\n",
    "    \n",
    "theme = Theme(json={'attrs': {\n",
    "# apply defaults to Figure properties\n",
    "'Figure': {\n",
    "    'toolbar_location': 'right',\n",
    "    'outline_line_color': None,\n",
    "    'min_border_right': 10,\n",
    "#     'sizing_mode': 'stretch_width',\n",
    "    'height':600,\n",
    "    'width':800,\n",
    "},'Grid': {\n",
    "    'grid_line_color': None,\n",
    "},\n",
    "'Title': {\n",
    "    'text_font_size': '20pt',\n",
    "    'align': 'center'\n",
    "},\n",
    "    \n",
    "    \n",
    "# apply defaults to Axis properties\n",
    "'Axis': {\n",
    "#     'minor_tick_out': None,\n",
    "#     'minor_tick_in': None,\n",
    "    'major_label_text_font_size': '15pt',\n",
    "    'axis_label_text_font_size': '15pt',\n",
    "#     'axis_label_text_font': 'Work Sans',\n",
    "    'axis_label_text_font_style': 'normal',\n",
    "    'axis_label_standoff':15\n",
    "},\n",
    "\n",
    "\n",
    "# apply defaults to Legend properties\n",
    "'Legend': {\n",
    "    'background_fill_alpha': 0.8,\n",
    "    'location': 'top_right',\n",
    "    \"label_text_font_size\": '15pt'\n",
    "}}})\n",
    "\n",
    "bokeh.io.curdoc().theme = theme\n",
    "from bokeh.io import export_png"
   ]
  },
  {
   "cell_type": "markdown",
   "id": "15a33717-e328-45fa-b401-05b4b9e607df",
   "metadata": {
    "tags": []
   },
   "source": [
    "## Getting experimental data"
   ]
  },
  {
   "cell_type": "code",
   "execution_count": 3,
   "id": "fa15a316-4b42-49f8-b9fd-3a480f2c0b10",
   "metadata": {},
   "outputs": [
    {
     "name": "stderr",
     "output_type": "stream",
     "text": [
      "C:\\Users\\zoila\\AppData\\Local\\Temp\\ipykernel_8336\\210321641.py:4: ParserWarning: Falling back to the 'python' engine because the 'c' engine does not support regex separators (separators > 1 char and different from '\\s+' are interpreted as regex); you can avoid this warning by specifying engine='python'.\n",
      "  mGapt_Data =  pd.read_csv(directory+folder_data+filename, delimiter = '\\,', names = ['time','mRNA0', 'mRNA1','mRNA2', 'mRNA3'], skiprows = 1)\n"
     ]
    }
   ],
   "source": [
    "# DNA= MGapt_Data (no RBS)\n",
    "folder_data='/MGapt_deGFP_Exp_PURE_Data/'\n",
    "filename = '2022.08.19_OnePot_PURE_mGapt_uM.csv'\n",
    "mGapt_Data =  pd.read_csv(directory+folder_data+filename, delimiter = '\\,', names = ['time','mRNA0', 'mRNA1','mRNA2', 'mRNA3'], skiprows = 1)"
   ]
  },
  {
   "cell_type": "code",
   "execution_count": 4,
   "id": "a25f9e15-0825-4ba4-91cd-d069264700eb",
   "metadata": {},
   "outputs": [
    {
     "name": "stderr",
     "output_type": "stream",
     "text": [
      "C:\\Users\\zoila\\AppData\\Local\\Temp\\ipykernel_8336\\1803188381.py:3: ParserWarning: Falling back to the 'python' engine because the 'c' engine does not support regex separators (separators > 1 char and different from '\\s+' are interpreted as regex); you can avoid this warning by specifying engine='python'.\n",
      "  MGaptdeGFP_gfp =  pd.read_csv(directory+folder_data+filename1, delimiter = '\\,', names = ['timepoints','deGFP_1','deGFP_2','deGFP_3'], skiprows = 1)\n",
      "C:\\Users\\zoila\\AppData\\Local\\Temp\\ipykernel_8336\\1803188381.py:6: ParserWarning: Falling back to the 'python' engine because the 'c' engine does not support regex separators (separators > 1 char and different from '\\s+' are interpreted as regex); you can avoid this warning by specifying engine='python'.\n",
      "  MGaptdeGFP_rna =  pd.read_csv(directory+folder_data+filename2, delimiter = '\\,', names = ['timepoints','MGapt_1','MGapt_2','MGapt_3'], skiprows = 1)\n"
     ]
    }
   ],
   "source": [
    "# DNA= MGapt-UTR1-deGFP_Data\n",
    "filename1 = '2022.11.14_OnePotPURE_deGFPuM.csv'\n",
    "MGaptdeGFP_gfp =  pd.read_csv(directory+folder_data+filename1, delimiter = '\\,', names = ['timepoints','deGFP_1','deGFP_2','deGFP_3'], skiprows = 1)\n",
    "\n",
    "filename2 = '2022.11.14_OnePotPURE_MGaptuM.csv'\n",
    "MGaptdeGFP_rna =  pd.read_csv(directory+folder_data+filename2, delimiter = '\\,', names = ['timepoints','MGapt_1','MGapt_2','MGapt_3'], skiprows = 1)"
   ]
  },
  {
   "cell_type": "markdown",
   "id": "af9e22c8-f46e-4123-9c53-525b1e0dcb67",
   "metadata": {
    "tags": []
   },
   "source": [
    "# User defined transcribed unit"
   ]
  },
  {
   "cell_type": "code",
   "execution_count": 5,
   "id": "6fbe1bc9-41eb-434d-b909-802a4923afcf",
   "metadata": {
    "tags": []
   },
   "outputs": [],
   "source": [
    "#User will copy the sequence bwteen end of promoter and start of terminator of DNA strain\n",
    "#mGapt sequence\n",
    "dna_seq='GGATCCCGACTGGCGAGAGCCAGGTAACGAATGGATCTCGAGCCTTAGGAGATCCGGCTGCTAACAAAGCCCGAAAGGAAGCTGAGTTG'\n",
    "\n",
    "#mGapt_UTR1_deGFP (uncomment below if modeling indicated plasmid)\n",
    "# dna_seq= 'GGGATCCCGACTGGCGAGAGCCAGGTAACGAATGGATCCAATAATTTTGTTTAACTTTAAGAAGGAGATATACCATGGAGCTTTTCACTGGCGTTGTTCCCATCCTGGTCGAGCTGGACGGCGACGTAAACGGCCACAAGTTCAGCGTGTCCGGCGAGGGCGAGGGCGATGCCACCTACGGCAAGCTGACCCTGAAGTTCATCTGCACCACCGGCAAGCTGCCCGTGCCCTGGCCCACCCTCGTGACCACCCTGACCTACGGCGTGCAGTGCTTCAGCCGCTACCCCGACCACATGAAGCAGCACGACTTCTTCAAGTCCGCCATGCCCGAAGGCTACGTCCAGGAGCGCACCATCTTCTTCAAGGACGACGGCAACTACAAGACCCGCGCCGAGGTGAAGTTCGAGGGCGACACCCTGGTGAACCGCATCGAGCTGAAGGGCATCGACTTCAAGGAGGACGGCAACATCCTGGGGCACAAGCTGGAGTACAACTACAACAGCCACAACGTCTATATCATGGCCGACAAGCAGAAGAACGGCATCAAGGTGAACTTCAAGATCCGCCACAACATCGAGGACGGCAGCGTGCAGCTCGCCGACCACTACCAGCAGAACACCCCCATCGGCGACGGCCCCGTGCTGCTGCCCGACAACCACTACCTGAGCACCCAGTCCGCCCTGAGCAAAGACCCCAACGAGAAGCGCGATCACATGGTCCTGCTGGAGTTCGTGACCGCCGCCGGGATCTAACTCGAGCCTTAGGAGATCCGGCTGCTAACAAAGCCCGAAAGGAAGCTGAGTTG'"
   ]
  },
  {
   "cell_type": "markdown",
   "id": "c2196b58-7df0-4560-8ddb-ff93cf85a804",
   "metadata": {
    "tags": []
   },
   "source": [
    "# Transcription (TX)"
   ]
  },
  {
   "cell_type": "markdown",
   "id": "a7fb340b-fc76-4459-8c36-252fc0475ce6",
   "metadata": {
    "jp-MarkdownHeadingCollapsed": true,
    "tags": []
   },
   "source": [
    "## Non-nucleic acid Species and Reactions\n",
    "\n",
    "Creates all the species and reaction around the nucleotide sequences in the given transcribed region, common protein and small molecules."
   ]
  },
  {
   "cell_type": "code",
   "execution_count": 6,
   "id": "59de9252-1334-4c91-8bfa-cbd03eb6f52b",
   "metadata": {
    "tags": []
   },
   "outputs": [],
   "source": [
    "## Species\n",
    "#Define species needed for TX \n",
    "RNAPa = Species('RNAPa') #ActivePolymerase\n",
    "DNA = Species(\"DNA\") \n",
    "mRNA=Species('mRNA')\n",
    "RNAPa_bound = Species(\"RNAPa_bound\") \n",
    "RNAPa_bound_GTP=Species('RNAPa_bound_GTP') #Attached RNAP to DNA\n",
    "RNAPa_bound_GDP_PO4= Species('RNAPa_bound_GDP_PO4')\n",
    "\n",
    "#Nucleotide bases that are \"active\"\n",
    "ATP=Species('ATP')\n",
    "GTP=Species('GTP')\n",
    "CTP=Species('CTP')\n",
    "UTP=Species('UTP')\n",
    "\n",
    "#Other small molecules\n",
    "GDP=Species('GDP')\n",
    "PPi=Species('PPi')\n",
    "PO4=Species('PO4')\n",
    "\n",
    "##Rates\n",
    "#Degradation rate\n",
    "NTP_deg= 1.75*10**(-4) \n",
    "k_rnapbF = 2.9*10**(-1)\n",
    "k_rnapbF2 = 6.3*10**(-2)\n",
    "k_rnapbF3 = 4.2*10**(-1)\n",
    "\n",
    "\n",
    "k_trap= NTP_deg \n",
    "NTP_charge= 223.6 \n",
    "\n",
    "\n",
    "#Define placing all species in one array\n",
    "Species_general= [RNAPa, DNA, mRNA, RNAPa_bound_GTP, RNAPa_bound, \n",
    "                  ATP, GTP, CTP, UTP,\n",
    "                  GDP, PPi, PO4,\n",
    "                  RNAPa_bound_GDP_PO4, RNAPa_bound_GTP,]\n",
    "\n",
    "#Define Reactions needed for TX regardless of the sequence defined\n",
    "RXN_general= [\n",
    "    #NTP degradation\n",
    "    Reaction.from_massaction([ATP], [], k_forward=NTP_deg), \n",
    "    Reaction.from_massaction([GTP], [], k_forward=NTP_deg), \n",
    "    Reaction.from_massaction([CTP], [], k_forward=NTP_deg), \n",
    "    Reaction.from_massaction([UTP], [], k_forward=NTP_deg), \n",
    "    #Binding of RNAP and beginning of transcription\n",
    "    Reaction.from_massaction([RNAPa, DNA, GTP], [RNAPa_bound_GTP], k_forward=k_rnapbF),\n",
    "    Reaction.from_massaction([RNAPa_bound_GTP], [RNAPa_bound_GDP_PO4], k_forward=k_rnapbF2),\n",
    "    Reaction.from_massaction([RNAPa_bound_GDP_PO4], [RNAPa_bound, GDP, PO4,], k_forward=k_rnapbF3)] "
   ]
  },
  {
   "cell_type": "markdown",
   "id": "6a76bc3a-5c95-457a-bbeb-8c8bd7257132",
   "metadata": {
    "jp-MarkdownHeadingCollapsed": true,
    "tags": []
   },
   "source": [
    "## Transcribing DNA to mRNA nucleotides"
   ]
  },
  {
   "cell_type": "code",
   "execution_count": 7,
   "id": "77337cbe-49ee-4914-b665-d9f7417fae15",
   "metadata": {
    "tags": []
   },
   "outputs": [],
   "source": [
    "# Transcribed given DNA sequence into mRNA sequence\n",
    "rna_seq = []\n",
    "for bp in dna_seq:\n",
    "    if bp == 'A':\n",
    "        tx = UTP\n",
    "    elif bp == 'T':\n",
    "        tx =ATP\n",
    "    elif bp == 'G':\n",
    "        tx =CTP\n",
    "    elif bp == 'C':\n",
    "        tx =GTP\n",
    "    else:\n",
    "        print('Non-standard nucleotides')\n",
    "    rna_seq.append(tx)"
   ]
  },
  {
   "cell_type": "markdown",
   "id": "618a0022-e1a7-44f3-bfb2-5cfc3c6a7881",
   "metadata": {
    "tags": []
   },
   "source": [
    "## Addition of each nucleotide and individual reactions needed "
   ]
  },
  {
   "cell_type": "code",
   "execution_count": 8,
   "id": "a7f69347-f89d-4e9b-9b37-ce0cbe6eae7d",
   "metadata": {
    "tags": []
   },
   "outputs": [],
   "source": [
    "nt_len = len(rna_seq)\n",
    "\n",
    "k_mrna0=8.2*10**(-2)\n",
    "k_ntpf = 6.2*10**(-1)\n",
    "k_addnt = (8.9)*10**(-0) \n",
    "k_ppi = 1000 \n",
    "k_term= 1.8 \n",
    "\n",
    "#Start iternations\n",
    "mrna_length='0000'\n",
    "rxn_list=[]\n",
    "species_list=[]\n",
    "\n",
    "for L in [l for l in range(len(rna_seq))]:\n",
    "    ntp = rna_seq[L]\n",
    "    mrna0 = mrna_length[:-len(str(L))]+str(L) #starting mRNA\n",
    "    mrnaG = mrna_length[:-len(str(L+1))]+str(L+1) #Growing mRNA\n",
    "\n",
    "    if L == 0:        \n",
    "        RNAPa_bound_mRNAmrna0 = Species('RNAPa_bound_mRNA'+mrna0)\n",
    "        RNAPa_bound_mRNAmrna0_ntp = Species('RNAPa_bound_mRNA'+mrna0+'_'+ str(ntp))\n",
    "        RNAPa_bound_mRNAmrnaG_nmp_PPi = Species('RNAPa_bound_mRNA'+mrnaG+'_PPi')\n",
    "        RNAPa_bound_mRNAmrnaG = Species('RNAPa_bound_mRNA'+mrnaG)\n",
    "        \n",
    "        species= [RNAPa_bound_mRNAmrna0, RNAPa_bound_mRNAmrna0_ntp,\n",
    "                  RNAPa_bound_mRNAmrnaG_nmp_PPi, RNAPa_bound_mRNAmrnaG]\n",
    "        \n",
    "        rxns=[Reaction.from_massaction([RNAPa_bound],[Species('RNAPa_bound_mRNA'+mrna0)],k_forward=k_mrna0), \n",
    "              Reaction.from_massaction([Species('RNAPa_bound_mRNA'+mrna0), ntp], [Species('RNAPa_bound_mRNA'+mrna0+'_'+ str(ntp))], k_forward=k_ntpf),\n",
    "              Reaction.from_massaction([Species('RNAPa_bound_mRNA'+mrna0+'_'+ str(ntp))],[Species('RNAPa_bound_mRNA'+mrnaG+'_PPi')],k_forward=k_addnt),\n",
    "            Reaction.from_massaction([Species('RNAPa_bound_mRNA'+mrnaG+'_PPi')],[Species('RNAPa_bound_mRNA'+mrnaG), PPi,],k_forward=k_ppi),] \n",
    "    elif L<nt_len-1:\n",
    "        \n",
    "        RNAPa_bound_mRNAmrna0_ntp = Species('RNAPa_bound_mRNA'+mrna0+'_'+ str(ntp))\n",
    "        RNAPa_bound_mRNAmrnaG_nmp_PPi = Species('RNAPa_bound_mRNA'+mrnaG+'_PPi')\n",
    "        RNAPa_bound_mRNAmrnaG = Species('RNAPa_bound_mRNA'+mrnaG)\n",
    "        \n",
    "        species= [RNAPa_bound_mRNAmrna0_ntp,\n",
    "                  RNAPa_bound_mRNAmrnaG_nmp_PPi, RNAPa_bound_mRNAmrnaG]\n",
    "        \n",
    "        rxns=[Reaction.from_massaction([Species('RNAPa_bound_mRNA'+mrna0), ntp], [Species('RNAPa_bound_mRNA'+mrna0+'_'+ str(ntp))], k_forward=k_ntpf),\n",
    "\n",
    "              Reaction.from_massaction([Species('RNAPa_bound_mRNA'+mrna0+'_'+ str(ntp))],[Species('RNAPa_bound_mRNA'+mrnaG+'_PPi')],k_forward=k_addnt),\n",
    "              Reaction.from_massaction([Species('RNAPa_bound_mRNA'+mrnaG+'_PPi')],[Species('RNAPa_bound_mRNA'+mrnaG), PPi,],k_forward=k_ppi),]  \n",
    "#         \n",
    "    else:\n",
    "        RNAPa_bound_mRNAmrna0_ntp = Species('RNAPa_bound_mRNA'+mrna0+'_'+ str(ntp))\n",
    "        RNAPa_bound_mRNAmrnaG_nmp_PPi = Species('RNAPa_bound_mRNA'+mrnaG+'_PPi')\n",
    "        RNAPa_bound_mRNAmrnaG = Species('RNAPa_bound_mRNA'+mrnaG)\n",
    "        \n",
    "        species= [RNAPa_bound_mRNAmrna0_ntp,\n",
    "                  RNAPa_bound_mRNAmrnaG_nmp_PPi, RNAPa_bound_mRNAmrnaG,]\n",
    "                   \n",
    "        rxns=[Reaction.from_massaction([Species('RNAPa_bound_mRNA'+mrna0), ntp], [Species('RNAPa_bound_mRNA'+mrna0+'_'+ str(ntp))], k_forward=k_ntpf),\n",
    "              Reaction.from_massaction([Species('RNAPa_bound_mRNA'+mrna0+'_'+ str(ntp))],[Species('RNAPa_bound_mRNA'+mrnaG+'_PPi')],k_forward=k_addnt),  \n",
    "              Reaction.from_massaction([Species('RNAPa_bound_mRNA'+mrnaG+'_PPi')],[Species('RNAPa_bound_mRNA'+mrnaG), PPi],k_forward=k_ppi),\n",
    "              Reaction.from_massaction([Species('RNAPa_bound_mRNA'+mrnaG),],[RNAPa, DNA, mRNA],k_forward=k_term,)]  \n",
    "        \n",
    "    rxn_list.append(rxns)\n",
    "    species_list.append(species)\n",
    "\n",
    "species_list = flatten(species_list)\n",
    "rxn_list= flatten(rxn_list)"
   ]
  },
  {
   "cell_type": "markdown",
   "id": "5b3b5b60-8557-4cf6-a736-5ba0510c4bc6",
   "metadata": {
    "tags": []
   },
   "source": [
    "## Simulate mRNA"
   ]
  },
  {
   "cell_type": "code",
   "execution_count": 9,
   "id": "b346cdd5-afee-45c8-80c8-b69f1a2487fb",
   "metadata": {
    "tags": []
   },
   "outputs": [
    {
     "name": "stdout",
     "output_type": "stream",
     "text": [
      "total time (s)= \n",
      "1.93406343460083\n"
     ]
    }
   ],
   "source": [
    "All_species = flatten([Species_general, species_list])\n",
    "All_rxn = flatten([RXN_general, rxn_list])\n",
    "\n",
    "CRN_TX = ChemicalReactionNetwork(species = All_species, reactions = All_rxn)\n",
    "\n",
    "#IC for MGapt\n",
    "initial_con={'RNAPa':(0.1), 'DNA':(.005), 'ATP':(3000), 'GTP':(3000), 'CTP':(1000), 'UTP':(1000),} #in uM\n",
    "\n",
    "# #IC for MGapt-deGFP\n",
    "# initial_con={'RNAPa':(0.1), 'DNA':(.001), 'ATP':(3000), 'GTP':(3000), 'CTP':(1000), 'UTP':(1000),} #in uM\n",
    "\n",
    "\n",
    "timepoints = np.linspace(10**-5, 6*10**4, 500)\n",
    "CRN_TX_only = CRN_TX.simulate_with_bioscrape_via_sbml(timepoints = timepoints, initial_condition_dict = initial_con )\n",
    "\n",
    "t1=time.time()\n",
    "total = t1-t0\n",
    "print('total time (s)= ')\n",
    "print(total)"
   ]
  },
  {
   "cell_type": "markdown",
   "id": "2516806c-1338-4a42-ada3-5e28d54568a1",
   "metadata": {},
   "source": [
    "## Plotting for MGapt_mRNA only"
   ]
  },
  {
   "cell_type": "code",
   "execution_count": 10,
   "id": "062b026b-f20d-44e9-a292-018d2a0efd0c",
   "metadata": {
    "tags": []
   },
   "outputs": [
    {
     "data": {
      "text/html": [
       "\n",
       "\n",
       "\n",
       "\n",
       "\n",
       "\n",
       "  <div class=\"bk-root\" id=\"b61d202a-1147-4c7e-b265-46523c028877\" data-root-id=\"1003\"></div>\n"
      ]
     },
     "metadata": {},
     "output_type": "display_data"
    },
    {
     "data": {
      "application/javascript": [
       "(function(root) {\n",
       "  function embed_document(root) {\n",
       "    \n",
       "  const docs_json = {\"5f2d0413-c501-4bb2-8955-820fb8eb1895\":{\"defs\":[],\"roots\":{\"references\":[{\"attributes\":{\"below\":[{\"id\":\"1012\"}],\"center\":[{\"id\":\"1015\"},{\"id\":\"1019\"},{\"id\":\"1052\"}],\"height\":600,\"left\":[{\"id\":\"1016\"}],\"min_border_right\":10,\"outline_line_color\":null,\"renderers\":[{\"id\":\"1039\"},{\"id\":\"1058\"},{\"id\":\"1078\"},{\"id\":\"1100\"},{\"id\":\"1124\"}],\"title\":{\"id\":\"1034\"},\"toolbar\":{\"id\":\"1027\"},\"toolbar_location\":\"right\",\"width\":800,\"x_range\":{\"id\":\"1146\"},\"x_scale\":{\"id\":\"1008\"},\"y_range\":{\"id\":\"1006\"},\"y_scale\":{\"id\":\"1010\"}},\"id\":\"1003\",\"subtype\":\"Figure\",\"type\":\"Plot\"},{\"attributes\":{},\"id\":\"1023\",\"type\":\"SaveTool\"},{\"attributes\":{\"label\":{\"value\":\"T7-mGapt.repeat2\"},\"renderers\":[{\"id\":\"1078\"}]},\"id\":\"1095\",\"type\":\"LegendItem\"},{\"attributes\":{},\"id\":\"1024\",\"type\":\"ResetTool\"},{\"attributes\":{\"background_fill_alpha\":0.8,\"coordinates\":null,\"group\":null,\"items\":[{\"id\":\"1053\"},{\"id\":\"1073\"},{\"id\":\"1095\"},{\"id\":\"1119\"},{\"id\":\"1145\"}],\"label_text_font_size\":\"15pt\",\"location\":\"bottom_right\"},\"id\":\"1052\",\"type\":\"Legend\"},{\"attributes\":{\"source\":{\"id\":\"1074\"}},\"id\":\"1079\",\"type\":\"CDSView\"},{\"attributes\":{},\"id\":\"1092\",\"type\":\"UnionRenderers\"},{\"attributes\":{\"bottom_units\":\"screen\",\"coordinates\":null,\"fill_alpha\":0.5,\"fill_color\":\"lightgrey\",\"group\":null,\"left_units\":\"screen\",\"level\":\"overlay\",\"line_alpha\":1.0,\"line_color\":\"black\",\"line_dash\":[4,4],\"line_width\":2,\"right_units\":\"screen\",\"syncable\":false,\"top_units\":\"screen\"},\"id\":\"1026\",\"type\":\"BoxAnnotation\"},{\"attributes\":{},\"id\":\"1049\",\"type\":\"UnionRenderers\"},{\"attributes\":{\"source\":{\"id\":\"1035\"}},\"id\":\"1040\",\"type\":\"CDSView\"},{\"attributes\":{\"fill_alpha\":{\"value\":0.5},\"fill_color\":{\"value\":\"steelblue\"},\"hatch_color\":{\"value\":\"steelblue\"},\"line_color\":{\"value\":\"steelblue\"},\"radius\":{\"value\":0.05},\"x\":{\"field\":\"x\"},\"y\":{\"field\":\"y\"}},\"id\":\"1097\",\"type\":\"Circle\"},{\"attributes\":{},\"id\":\"1093\",\"type\":\"Selection\"},{\"attributes\":{\"data\":{\"x\":{\"__ndarray__\":\"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\",\"dtype\":\"float64\",\"order\":\"little\",\"shape\":[301]},\"y\":{\"__ndarray__\":\"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\",\"dtype\":\"float64\",\"order\":\"little\",\"shape\":[301]}},\"selected\":{\"id\":\"1117\"},\"selection_policy\":{\"id\":\"1116\"}},\"id\":\"1096\",\"type\":\"ColumnDataSource\"},{\"attributes\":{},\"id\":\"1050\",\"type\":\"Selection\"},{\"attributes\":{\"coordinates\":null,\"data_source\":{\"id\":\"1096\"},\"glyph\":{\"id\":\"1097\"},\"group\":null,\"hover_glyph\":null,\"muted_glyph\":{\"id\":\"1099\"},\"nonselection_glyph\":{\"id\":\"1098\"},\"view\":{\"id\":\"1101\"}},\"id\":\"1100\",\"type\":\"GlyphRenderer\"},{\"attributes\":{},\"id\":\"1117\",\"type\":\"Selection\"},{\"attributes\":{\"label\":{\"value\":\"T7-mGapt.repeat3\"},\"renderers\":[{\"id\":\"1100\"}]},\"id\":\"1119\",\"type\":\"LegendItem\"},{\"attributes\":{\"source\":{\"id\":\"1096\"}},\"id\":\"1101\",\"type\":\"CDSView\"},{\"attributes\":{\"coordinates\":null,\"data_source\":{\"id\":\"1035\"},\"glyph\":{\"id\":\"1036\"},\"group\":null,\"hover_glyph\":null,\"muted_glyph\":{\"id\":\"1038\"},\"nonselection_glyph\":{\"id\":\"1037\"},\"view\":{\"id\":\"1040\"}},\"id\":\"1039\",\"type\":\"GlyphRenderer\"},{\"attributes\":{\"fill_alpha\":{\"value\":0.2},\"fill_color\":{\"value\":\"steelblue\"},\"hatch_alpha\":{\"value\":0.2},\"hatch_color\":{\"value\":\"steelblue\"},\"line_alpha\":{\"value\":0.2},\"line_color\":{\"value\":\"steelblue\"},\"radius\":{\"value\":0.05},\"x\":{\"field\":\"x\"},\"y\":{\"field\":\"y\"}},\"id\":\"1099\",\"type\":\"Circle\"},{\"attributes\":{\"end\":8},\"id\":\"1146\",\"type\":\"Range1d\"},{\"attributes\":{\"fill_alpha\":{\"value\":0.5},\"fill_color\":{\"value\":\"royalblue\"},\"hatch_color\":{\"value\":\"royalblue\"},\"line_color\":{\"value\":\"royalblue\"},\"radius\":{\"value\":0.05},\"x\":{\"field\":\"x\"},\"y\":{\"field\":\"y\"}},\"id\":\"1121\",\"type\":\"Circle\"},{\"attributes\":{},\"id\":\"1116\",\"type\":\"UnionRenderers\"},{\"attributes\":{\"align\":\"center\",\"coordinates\":null,\"group\":null,\"text\":\"mRNA Concentration Over Time\",\"text_font_size\":\"20pt\"},\"id\":\"1034\",\"type\":\"Title\"},{\"attributes\":{\"data\":{\"x\":{\"__ndarray__\":\"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\",\"dtype\":\"float64\",\"order\":\"little\",\"shape\":[301]},\"y\":{\"__ndarray__\":\"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\",\"dtype\":\"float64\",\"order\":\"little\",\"shape\":[301]}},\"selected\":{\"id\":\"1143\"},\"selection_policy\":{\"id\":\"1142\"}},\"id\":\"1120\",\"type\":\"ColumnDataSource\"},{\"attributes\":{\"fill_alpha\":{\"value\":0.1},\"fill_color\":{\"value\":\"royalblue\"},\"hatch_alpha\":{\"value\":0.1},\"hatch_color\":{\"value\":\"royalblue\"},\"line_alpha\":{\"value\":0.1},\"line_color\":{\"value\":\"royalblue\"},\"radius\":{\"value\":0.05},\"x\":{\"field\":\"x\"},\"y\":{\"field\":\"y\"}},\"id\":\"1122\",\"type\":\"Circle\"},{\"attributes\":{\"coordinates\":null,\"data_source\":{\"id\":\"1120\"},\"glyph\":{\"id\":\"1121\"},\"group\":null,\"hover_glyph\":null,\"muted_glyph\":{\"id\":\"1123\"},\"nonselection_glyph\":{\"id\":\"1122\"},\"view\":{\"id\":\"1125\"}},\"id\":\"1124\",\"type\":\"GlyphRenderer\"},{\"attributes\":{},\"id\":\"1006\",\"type\":\"DataRange1d\"},{\"attributes\":{\"fill_alpha\":{\"value\":0.2},\"fill_color\":{\"value\":\"royalblue\"},\"hatch_alpha\":{\"value\":0.2},\"hatch_color\":{\"value\":\"royalblue\"},\"line_alpha\":{\"value\":0.2},\"line_color\":{\"value\":\"royalblue\"},\"radius\":{\"value\":0.05},\"x\":{\"field\":\"x\"},\"y\":{\"field\":\"y\"}},\"id\":\"1123\",\"type\":\"Circle\"},{\"attributes\":{\"fill_alpha\":{\"value\":0.5},\"fill_color\":{\"value\":\"navy\"},\"hatch_color\":{\"value\":\"navy\"},\"line_color\":{\"value\":\"navy\"},\"radius\":{\"value\":0.05},\"x\":{\"field\":\"x\"},\"y\":{\"field\":\"y\"}},\"id\":\"1055\",\"type\":\"Circle\"},{\"attributes\":{\"data\":{\"x\":{\"__ndarray__\":\"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\",\"dtype\":\"float64\",\"order\":\"little\",\"shape\":[301]},\"y\":{\"__ndarray__\":\"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\",\"dtype\":\"float64\",\"order\":\"little\",\"shape\":[301]}},\"selected\":{\"id\":\"1071\"},\"selection_policy\":{\"id\":\"1070\"}},\"id\":\"1054\",\"type\":\"ColumnDataSource\"},{\"attributes\":{},\"id\":\"1142\",\"type\":\"UnionRenderers\"},{\"attributes\":{\"fill_alpha\":{\"value\":0.1},\"fill_color\":{\"value\":\"navy\"},\"hatch_alpha\":{\"value\":0.1},\"hatch_color\":{\"value\":\"navy\"},\"line_alpha\":{\"value\":0.1},\"line_color\":{\"value\":\"navy\"},\"radius\":{\"value\":0.05},\"x\":{\"field\":\"x\"},\"y\":{\"field\":\"y\"}},\"id\":\"1056\",\"type\":\"Circle\"},{\"attributes\":{},\"id\":\"1008\",\"type\":\"LinearScale\"},{\"attributes\":{\"source\":{\"id\":\"1120\"}},\"id\":\"1125\",\"type\":\"CDSView\"},{\"attributes\":{},\"id\":\"1071\",\"type\":\"Selection\"},{\"attributes\":{\"coordinates\":null,\"data_source\":{\"id\":\"1054\"},\"glyph\":{\"id\":\"1055\"},\"group\":null,\"hover_glyph\":null,\"muted_glyph\":{\"id\":\"1057\"},\"nonselection_glyph\":{\"id\":\"1056\"},\"view\":{\"id\":\"1059\"}},\"id\":\"1058\",\"type\":\"GlyphRenderer\"},{\"attributes\":{\"axis_label\":\"Time (hours)\",\"axis_label_standoff\":15,\"axis_label_text_font_size\":\"15pt\",\"axis_label_text_font_style\":\"normal\",\"coordinates\":null,\"formatter\":{\"id\":\"1047\"},\"group\":null,\"major_label_policy\":{\"id\":\"1048\"},\"major_label_text_font_size\":\"15pt\",\"ticker\":{\"id\":\"1013\"}},\"id\":\"1012\",\"type\":\"LinearAxis\"},{\"attributes\":{\"line_color\":\"magenta\",\"line_width\":5,\"x\":{\"field\":\"x\"},\"y\":{\"field\":\"y\"}},\"id\":\"1036\",\"type\":\"Line\"},{\"attributes\":{\"axis_label\":\"mRNA (uM)\",\"axis_label_standoff\":15,\"axis_label_text_font_size\":\"15pt\",\"axis_label_text_font_style\":\"normal\",\"coordinates\":null,\"formatter\":{\"id\":\"1044\"},\"group\":null,\"major_label_policy\":{\"id\":\"1045\"},\"major_label_text_font_size\":\"15pt\",\"ticker\":{\"id\":\"1017\"}},\"id\":\"1016\",\"type\":\"LinearAxis\"},{\"attributes\":{\"fill_alpha\":{\"value\":0.2},\"fill_color\":{\"value\":\"navy\"},\"hatch_alpha\":{\"value\":0.2},\"hatch_color\":{\"value\":\"navy\"},\"line_alpha\":{\"value\":0.2},\"line_color\":{\"value\":\"navy\"},\"radius\":{\"value\":0.05},\"x\":{\"field\":\"x\"},\"y\":{\"field\":\"y\"}},\"id\":\"1057\",\"type\":\"Circle\"},{\"attributes\":{},\"id\":\"1044\",\"type\":\"BasicTickFormatter\"},{\"attributes\":{},\"id\":\"1010\",\"type\":\"LinearScale\"},{\"attributes\":{\"label\":{\"value\":\"T7-mGapt.repeat4\"},\"renderers\":[{\"id\":\"1124\"}]},\"id\":\"1145\",\"type\":\"LegendItem\"},{\"attributes\":{},\"id\":\"1143\",\"type\":\"Selection\"},{\"attributes\":{},\"id\":\"1025\",\"type\":\"HelpTool\"},{\"attributes\":{\"fill_alpha\":{\"value\":0.1},\"fill_color\":{\"value\":\"steelblue\"},\"hatch_alpha\":{\"value\":0.1},\"hatch_color\":{\"value\":\"steelblue\"},\"line_alpha\":{\"value\":0.1},\"line_color\":{\"value\":\"steelblue\"},\"radius\":{\"value\":0.05},\"x\":{\"field\":\"x\"},\"y\":{\"field\":\"y\"}},\"id\":\"1098\",\"type\":\"Circle\"},{\"attributes\":{},\"id\":\"1070\",\"type\":\"UnionRenderers\"},{\"attributes\":{},\"id\":\"1045\",\"type\":\"AllLabels\"},{\"attributes\":{},\"id\":\"1013\",\"type\":\"BasicTicker\"},{\"attributes\":{\"axis\":{\"id\":\"1012\"},\"coordinates\":null,\"grid_line_color\":null,\"group\":null,\"ticker\":null},\"id\":\"1015\",\"type\":\"Grid\"},{\"attributes\":{\"source\":{\"id\":\"1054\"}},\"id\":\"1059\",\"type\":\"CDSView\"},{\"attributes\":{\"label\":{\"value\":\"Model_TXonly\"},\"renderers\":[{\"id\":\"1039\"}]},\"id\":\"1053\",\"type\":\"LegendItem\"},{\"attributes\":{\"label\":{\"value\":\"T7-mGapt.repeat1\"},\"renderers\":[{\"id\":\"1058\"}]},\"id\":\"1073\",\"type\":\"LegendItem\"},{\"attributes\":{},\"id\":\"1047\",\"type\":\"BasicTickFormatter\"},{\"attributes\":{\"fill_alpha\":{\"value\":0.2},\"fill_color\":{\"value\":\"blue\"},\"hatch_alpha\":{\"value\":0.2},\"hatch_color\":{\"value\":\"blue\"},\"line_alpha\":{\"value\":0.2},\"line_color\":{\"value\":\"blue\"},\"radius\":{\"value\":0.05},\"x\":{\"field\":\"x\"},\"y\":{\"field\":\"y\"}},\"id\":\"1077\",\"type\":\"Circle\"},{\"attributes\":{\"line_alpha\":0.2,\"line_color\":\"magenta\",\"line_width\":5,\"x\":{\"field\":\"x\"},\"y\":{\"field\":\"y\"}},\"id\":\"1038\",\"type\":\"Line\"},{\"attributes\":{\"axis\":{\"id\":\"1016\"},\"coordinates\":null,\"dimension\":1,\"grid_line_color\":null,\"group\":null,\"ticker\":null},\"id\":\"1019\",\"type\":\"Grid\"},{\"attributes\":{\"fill_alpha\":{\"value\":0.5},\"fill_color\":{\"value\":\"blue\"},\"hatch_color\":{\"value\":\"blue\"},\"line_color\":{\"value\":\"blue\"},\"radius\":{\"value\":0.05},\"x\":{\"field\":\"x\"},\"y\":{\"field\":\"y\"}},\"id\":\"1075\",\"type\":\"Circle\"},{\"attributes\":{},\"id\":\"1017\",\"type\":\"BasicTicker\"},{\"attributes\":{\"data\":{\"x\":{\"__ndarray__\":\"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\",\"dtype\":\"float64\",\"order\":\"little\",\"shape\":[301]},\"y\":{\"__ndarray__\":\"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\",\"dtype\":\"float64\",\"order\":\"little\",\"shape\":[301]}},\"selected\":{\"id\":\"1093\"},\"selection_policy\":{\"id\":\"1092\"}},\"id\":\"1074\",\"type\":\"ColumnDataSource\"},{\"attributes\":{},\"id\":\"1048\",\"type\":\"AllLabels\"},{\"attributes\":{\"data\":{\"x\":{\"__ndarray__\":\"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\",\"dtype\":\"float64\",\"order\":\"little\",\"shape\":[500]},\"y\":{\"__ndarray__\":\"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\",\"dtype\":\"float64\",\"order\":\"little\",\"shape\":[500]}},\"selected\":{\"id\":\"1050\"},\"selection_policy\":{\"id\":\"1049\"}},\"id\":\"1035\",\"type\":\"ColumnDataSource\"},{\"attributes\":{\"tools\":[{\"id\":\"1020\"},{\"id\":\"1021\"},{\"id\":\"1022\"},{\"id\":\"1023\"},{\"id\":\"1024\"},{\"id\":\"1025\"}]},\"id\":\"1027\",\"type\":\"Toolbar\"},{\"attributes\":{\"fill_alpha\":{\"value\":0.1},\"fill_color\":{\"value\":\"blue\"},\"hatch_alpha\":{\"value\":0.1},\"hatch_color\":{\"value\":\"blue\"},\"line_alpha\":{\"value\":0.1},\"line_color\":{\"value\":\"blue\"},\"radius\":{\"value\":0.05},\"x\":{\"field\":\"x\"},\"y\":{\"field\":\"y\"}},\"id\":\"1076\",\"type\":\"Circle\"},{\"attributes\":{},\"id\":\"1021\",\"type\":\"WheelZoomTool\"},{\"attributes\":{\"coordinates\":null,\"data_source\":{\"id\":\"1074\"},\"glyph\":{\"id\":\"1075\"},\"group\":null,\"hover_glyph\":null,\"muted_glyph\":{\"id\":\"1077\"},\"nonselection_glyph\":{\"id\":\"1076\"},\"view\":{\"id\":\"1079\"}},\"id\":\"1078\",\"type\":\"GlyphRenderer\"},{\"attributes\":{},\"id\":\"1020\",\"type\":\"PanTool\"},{\"attributes\":{\"line_alpha\":0.1,\"line_color\":\"magenta\",\"line_width\":5,\"x\":{\"field\":\"x\"},\"y\":{\"field\":\"y\"}},\"id\":\"1037\",\"type\":\"Line\"},{\"attributes\":{\"overlay\":{\"id\":\"1026\"}},\"id\":\"1022\",\"type\":\"BoxZoomTool\"}],\"root_ids\":[\"1003\"]},\"title\":\"Bokeh Application\",\"version\":\"2.4.0\"}};\n",
       "  const render_items = [{\"docid\":\"5f2d0413-c501-4bb2-8955-820fb8eb1895\",\"root_ids\":[\"1003\"],\"roots\":{\"1003\":\"b61d202a-1147-4c7e-b265-46523c028877\"}}];\n",
       "  root.Bokeh.embed.embed_items_notebook(docs_json, render_items);\n",
       "\n",
       "  }\n",
       "  if (root.Bokeh !== undefined) {\n",
       "    embed_document(root);\n",
       "  } else {\n",
       "    let attempts = 0;\n",
       "    const timer = setInterval(function(root) {\n",
       "      if (root.Bokeh !== undefined) {\n",
       "        clearInterval(timer);\n",
       "        embed_document(root);\n",
       "      } else {\n",
       "        attempts++;\n",
       "        if (attempts > 100) {\n",
       "          clearInterval(timer);\n",
       "          console.log(\"Bokeh: ERROR: Unable to run BokehJS code because BokehJS library is missing\");\n",
       "        }\n",
       "      }\n",
       "    }, 10, root)\n",
       "  }\n",
       "})(window);"
      ],
      "application/vnd.bokehjs_exec.v0+json": ""
     },
     "metadata": {
      "application/vnd.bokehjs_exec.v0+json": {
       "id": "1003"
      }
     },
     "output_type": "display_data"
    }
   ],
   "source": [
    "p1 = bokeh.plotting.figure()\n",
    "p1.title.text = \"mRNA Concentration Over Time\"\n",
    "p1.xaxis.axis_label = 'Time (hours)'\n",
    "p1.yaxis.axis_label = 'mRNA (uM)'\n",
    "\n",
    "p1.line(timepoints/3600, CRN_TX_only[str(mRNA)], legend_label = \"Model_TXonly\", line_color=\"magenta\", line_width=5) #mRNA\n",
    "\n",
    "#Experimental data set 1\n",
    "p1.scatter(mGapt_Data['time']/3600, mGapt_Data['mRNA1'], legend_label = \"T7-mGapt.repeat1\", radius=0.05, fill_alpha=0.5, color=\"navy\") #mRNA\n",
    "p1.scatter(mGapt_Data['time']/3600, mGapt_Data['mRNA2'], legend_label = \"T7-mGapt.repeat2\", radius=0.05, fill_alpha=0.5, color=\"blue\")#mRNA\n",
    "p1.scatter(mGapt_Data['time']/3600, mGapt_Data['mRNA3'], legend_label = \"T7-mGapt.repeat3\", radius=0.05, fill_alpha=0.5, color= \"steelblue\") #mRNA\n",
    "#Experimental data set 2 lightsteelblue, powderblue, lightblue, skyblue, lightskyblue, deepskyblue, dodgerblue, cornflowerblue, steelblue, royalblue, blue, mediumblue, darkblue, navy, midnightblue\n",
    "p1.scatter(mGapt_Data['time']/3600, mGapt_Data['mRNA0'], legend_label = \"T7-mGapt.repeat4\", radius=0.05, fill_alpha=0.5, color= \"royalblue\") #mRNAp1.legend.location='bottom_right'\n",
    "\n",
    "p1.legend.location='bottom_right'\n",
    "p1.x_range=Range1d(0, 8)\n",
    "bokeh.io.show(p1)"
   ]
  },
  {
   "cell_type": "markdown",
   "id": "e4ef17dc-11d8-44d6-8e59-a8d94f3a3936",
   "metadata": {},
   "source": [
    "## Plotting for MGapt-UTR1-deGFP_mRNA only"
   ]
  },
  {
   "cell_type": "code",
   "execution_count": 11,
   "id": "2cc00de6-633e-4e90-91e8-efb8e768682f",
   "metadata": {
    "tags": []
   },
   "outputs": [],
   "source": [
    "# p1 = bokeh.plotting.figure()\n",
    "# p1.title.text = \"mRNA Concentration Over Time\"\n",
    "# p1.xaxis.axis_label = 'Time (hours)'\n",
    "# p1.yaxis.axis_label = 'mRNA (uM)'\n",
    "\n",
    "# p1.line(timepoints/3600, CRN_TX_only[str(mRNA)], legend_label = \"Model_TXonly\", line_color=\"magenta\", line_width=5) #mRNA\n",
    "\n",
    "# #Experimental data set 1\n",
    "# p1.scatter(MGaptdeGFP_rna['timepoints']/60, MGaptdeGFP_rna['MGapt_1'], legend_label = \"T7-mGapt_deGFP.R1\", radius=0.01, fill_alpha=0.5, color=\"navy\") #mRNA\n",
    "# p1.scatter(MGaptdeGFP_rna['timepoints']/60, MGaptdeGFP_rna['MGapt_2'], legend_label = \"T7-mGapt_deGFP.R2\", radius=0.01, fill_alpha=0.5, color=\"navy\") #mRNA\n",
    "# p1.scatter(MGaptdeGFP_rna['timepoints']/60, MGaptdeGFP_rna['MGapt_3'], legend_label = \"T7-mGapt_deGFP.R3\", radius=0.01, fill_alpha=0.5, color=\"navy\") #mRNA\n",
    "# p1.legend.location='top_left'\n",
    "# p1.x_range=Range1d(0, 6)\n",
    "# bokeh.io.show(p1)"
   ]
  },
  {
   "cell_type": "markdown",
   "id": "f4eaf45e-e6b4-4446-8a68-84a837a394cd",
   "metadata": {},
   "source": [
    "# Computing environment"
   ]
  },
  {
   "cell_type": "code",
   "execution_count": 12,
   "id": "3ef52389-6453-4aa7-9ebf-664f8d244363",
   "metadata": {},
   "outputs": [
    {
     "name": "stdout",
     "output_type": "stream",
     "text": [
      "Python implementation: CPython\n",
      "Python version       : 3.8.17\n",
      "IPython version      : 8.12.2\n",
      "\n",
      "bioscrape  : 1.2.1\n",
      "bokeh      : 2.4.0\n",
      "panel      : 0.13.1\n",
      "jupyterlab : 3.6.5\n",
      "biocrnpyler: 1.1.1\n",
      "\n"
     ]
    }
   ],
   "source": [
    "%load_ext watermark\n",
    "%watermark -v -p bioscrape,bokeh,panel,jupyterlab,biocrnpyler"
   ]
  }
 ],
 "metadata": {
  "kernelspec": {
   "display_name": "Python 3 (ipykernel)",
   "language": "python",
   "name": "python3"
  },
  "language_info": {
   "codemirror_mode": {
    "name": "ipython",
    "version": 3
   },
   "file_extension": ".py",
   "mimetype": "text/x-python",
   "name": "python",
   "nbconvert_exporter": "python",
   "pygments_lexer": "ipython3",
   "version": "3.8.17"
  }
 },
 "nbformat": 4,
 "nbformat_minor": 5
}
